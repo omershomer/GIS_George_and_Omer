{
 "cells": [
  {
   "cell_type": "markdown",
   "id": "506ae29d-51c6-427b-bfdb-881d521f4181",
   "metadata": {},
   "source": [
    "Income Landscape Analysis, City of LA. I am looking at income data from the Census to paint a picture of where income lies within the city. Bike riders tend to be low-income, so this will be helpful to compare to biking infrastructure to see if this population is being well-served by bike infrastructure. \n",
    "By: Omer Sohail "
   ]
  },
  {
   "cell_type": "code",
   "execution_count": 1,
   "id": "d41f6cf3-31b4-40b1-b731-a4612e00ed9c",
   "metadata": {},
   "outputs": [],
   "source": [
    "import pandas as pd"
   ]
  },
  {
   "cell_type": "code",
   "execution_count": 5,
   "id": "3768b170-ce85-478a-8a43-8c7d43066154",
   "metadata": {},
   "outputs": [],
   "source": [
    "#loading income data file gathered from social explorer\n",
    "df=pd.read_csv('data/R13010630_SL321.csv')"
   ]
  },
  {
   "cell_type": "markdown",
   "id": "55db7136-eb3e-4a76-9053-61525ed1198d",
   "metadata": {},
   "source": [
    "I want to get an idea of what the file looks like:"
   ]
  },
  {
   "cell_type": "code",
   "execution_count": 3,
   "id": "d9e9a33a-1675-4033-9af2-04097dcaf490",
   "metadata": {},
   "outputs": [
    {
     "data": {
      "text/plain": [
       "(1, 105)"
      ]
     },
     "execution_count": 3,
     "metadata": {},
     "output_type": "execute_result"
    }
   ],
   "source": [
    "df.shape"
   ]
  },
  {
   "cell_type": "code",
   "execution_count": 4,
   "id": "0b9f43f5-5c35-4701-ba31-abc48d34edd2",
   "metadata": {},
   "outputs": [
    {
     "data": {
      "text/html": [
       "<div>\n",
       "<style scoped>\n",
       "    .dataframe tbody tr th:only-of-type {\n",
       "        vertical-align: middle;\n",
       "    }\n",
       "\n",
       "    .dataframe tbody tr th {\n",
       "        vertical-align: top;\n",
       "    }\n",
       "\n",
       "    .dataframe thead th {\n",
       "        text-align: right;\n",
       "    }\n",
       "</style>\n",
       "<table border=\"1\" class=\"dataframe\">\n",
       "  <thead>\n",
       "    <tr style=\"text-align: right;\">\n",
       "      <th></th>\n",
       "      <th>Geo_FIPS</th>\n",
       "      <th>Geo_GEOID</th>\n",
       "      <th>Geo_NAME</th>\n",
       "      <th>Geo_QName</th>\n",
       "      <th>Geo_STUSAB</th>\n",
       "      <th>Geo_SUMLEV</th>\n",
       "      <th>Geo_GEOCOMP</th>\n",
       "      <th>Geo_FILEID</th>\n",
       "      <th>Geo_LOGRECNO</th>\n",
       "      <th>Geo_US</th>\n",
       "      <th>...</th>\n",
       "      <th>SE_A10015_002</th>\n",
       "      <th>SE_A10015_003</th>\n",
       "      <th>PCT_SE_A10015_002</th>\n",
       "      <th>PCT_SE_A10015_003</th>\n",
       "      <th>SE_A10013_001</th>\n",
       "      <th>SE_A10013_002</th>\n",
       "      <th>SE_A10013_003</th>\n",
       "      <th>PCT_SE_A10013_002</th>\n",
       "      <th>PCT_SE_A10013_003</th>\n",
       "      <th>SE_A14024_001</th>\n",
       "    </tr>\n",
       "  </thead>\n",
       "  <tbody>\n",
       "    <tr>\n",
       "      <th>0</th>\n",
       "      <td>63108044000</td>\n",
       "      <td>32100US063108044000</td>\n",
       "      <td>Los Angeles city; Los Angeles-Long Beach-Anaheim</td>\n",
       "      <td>Los Angeles city; Los Angeles-Long Beach-Anahe...</td>\n",
       "      <td>ca</td>\n",
       "      <td>321</td>\n",
       "      <td>0</td>\n",
       "      <td>ACSSF</td>\n",
       "      <td>37889</td>\n",
       "      <td>NaN</td>\n",
       "      <td>...</td>\n",
       "      <td>147503</td>\n",
       "      <td>1236366</td>\n",
       "      <td>10.66</td>\n",
       "      <td>89.34</td>\n",
       "      <td>1383869</td>\n",
       "      <td>108856</td>\n",
       "      <td>1275013</td>\n",
       "      <td>7.87</td>\n",
       "      <td>92.13</td>\n",
       "      <td>35261</td>\n",
       "    </tr>\n",
       "  </tbody>\n",
       "</table>\n",
       "<p>1 rows × 105 columns</p>\n",
       "</div>"
      ],
      "text/plain": [
       "      Geo_FIPS            Geo_GEOID  \\\n",
       "0  63108044000  32100US063108044000   \n",
       "\n",
       "                                           Geo_NAME  \\\n",
       "0  Los Angeles city; Los Angeles-Long Beach-Anaheim   \n",
       "\n",
       "                                           Geo_QName Geo_STUSAB  Geo_SUMLEV  \\\n",
       "0  Los Angeles city; Los Angeles-Long Beach-Anahe...         ca         321   \n",
       "\n",
       "   Geo_GEOCOMP Geo_FILEID  Geo_LOGRECNO  Geo_US  ...  SE_A10015_002  \\\n",
       "0            0      ACSSF         37889     NaN  ...         147503   \n",
       "\n",
       "   SE_A10015_003  PCT_SE_A10015_002  PCT_SE_A10015_003  SE_A10013_001  \\\n",
       "0        1236366              10.66              89.34        1383869   \n",
       "\n",
       "   SE_A10013_002  SE_A10013_003  PCT_SE_A10013_002  PCT_SE_A10013_003  \\\n",
       "0         108856        1275013               7.87              92.13   \n",
       "\n",
       "   SE_A14024_001  \n",
       "0          35261  \n",
       "\n",
       "[1 rows x 105 columns]"
      ]
     },
     "execution_count": 4,
     "metadata": {},
     "output_type": "execute_result"
    }
   ],
   "source": [
    "df.head()"
   ]
  },
  {
   "cell_type": "code",
   "execution_count": 11,
   "id": "584bfebc-af66-4ffa-ae76-2a173e4f3deb",
   "metadata": {},
   "outputs": [],
   "source": [
    "pd.set_option('display.max_rows', None)"
   ]
  },
  {
   "cell_type": "code",
   "execution_count": 12,
   "id": "a2f1c099-0423-4c7c-896b-2e17bfa85daf",
   "metadata": {},
   "outputs": [
    {
     "data": {
      "text/html": [
       "<div>\n",
       "<style scoped>\n",
       "    .dataframe tbody tr th:only-of-type {\n",
       "        vertical-align: middle;\n",
       "    }\n",
       "\n",
       "    .dataframe tbody tr th {\n",
       "        vertical-align: top;\n",
       "    }\n",
       "\n",
       "    .dataframe thead th {\n",
       "        text-align: right;\n",
       "    }\n",
       "</style>\n",
       "<table border=\"1\" class=\"dataframe\">\n",
       "  <thead>\n",
       "    <tr style=\"text-align: right;\">\n",
       "      <th></th>\n",
       "      <th>Geo_FIPS</th>\n",
       "      <th>Geo_GEOID</th>\n",
       "      <th>Geo_NAME</th>\n",
       "      <th>Geo_QName</th>\n",
       "      <th>Geo_STUSAB</th>\n",
       "      <th>Geo_SUMLEV</th>\n",
       "      <th>Geo_GEOCOMP</th>\n",
       "      <th>Geo_FILEID</th>\n",
       "      <th>Geo_LOGRECNO</th>\n",
       "      <th>Geo_US</th>\n",
       "      <th>...</th>\n",
       "      <th>SE_A10015_002</th>\n",
       "      <th>SE_A10015_003</th>\n",
       "      <th>PCT_SE_A10015_002</th>\n",
       "      <th>PCT_SE_A10015_003</th>\n",
       "      <th>SE_A10013_001</th>\n",
       "      <th>SE_A10013_002</th>\n",
       "      <th>SE_A10013_003</th>\n",
       "      <th>PCT_SE_A10013_002</th>\n",
       "      <th>PCT_SE_A10013_003</th>\n",
       "      <th>SE_A14024_001</th>\n",
       "    </tr>\n",
       "  </thead>\n",
       "  <tbody>\n",
       "    <tr>\n",
       "      <th>0</th>\n",
       "      <td>63108044000</td>\n",
       "      <td>32100US063108044000</td>\n",
       "      <td>Los Angeles city; Los Angeles-Long Beach-Anaheim</td>\n",
       "      <td>Los Angeles city; Los Angeles-Long Beach-Anahe...</td>\n",
       "      <td>ca</td>\n",
       "      <td>321</td>\n",
       "      <td>0</td>\n",
       "      <td>ACSSF</td>\n",
       "      <td>37889</td>\n",
       "      <td>NaN</td>\n",
       "      <td>...</td>\n",
       "      <td>147503</td>\n",
       "      <td>1236366</td>\n",
       "      <td>10.66</td>\n",
       "      <td>89.34</td>\n",
       "      <td>1383869</td>\n",
       "      <td>108856</td>\n",
       "      <td>1275013</td>\n",
       "      <td>7.87</td>\n",
       "      <td>92.13</td>\n",
       "      <td>35261</td>\n",
       "    </tr>\n",
       "  </tbody>\n",
       "</table>\n",
       "<p>1 rows × 105 columns</p>\n",
       "</div>"
      ],
      "text/plain": [
       "      Geo_FIPS            Geo_GEOID  \\\n",
       "0  63108044000  32100US063108044000   \n",
       "\n",
       "                                           Geo_NAME  \\\n",
       "0  Los Angeles city; Los Angeles-Long Beach-Anaheim   \n",
       "\n",
       "                                           Geo_QName Geo_STUSAB  Geo_SUMLEV  \\\n",
       "0  Los Angeles city; Los Angeles-Long Beach-Anahe...         ca         321   \n",
       "\n",
       "   Geo_GEOCOMP Geo_FILEID  Geo_LOGRECNO  Geo_US  ...  SE_A10015_002  \\\n",
       "0            0      ACSSF         37889     NaN  ...         147503   \n",
       "\n",
       "   SE_A10015_003  PCT_SE_A10015_002  PCT_SE_A10015_003  SE_A10013_001  \\\n",
       "0        1236366              10.66              89.34        1383869   \n",
       "\n",
       "   SE_A10013_002  SE_A10013_003  PCT_SE_A10013_002  PCT_SE_A10013_003  \\\n",
       "0         108856        1275013               7.87              92.13   \n",
       "\n",
       "   SE_A14024_001  \n",
       "0          35261  \n",
       "\n",
       "[1 rows x 105 columns]"
      ]
     },
     "execution_count": 12,
     "metadata": {},
     "output_type": "execute_result"
    }
   ],
   "source": [
    "df.head()"
   ]
  },
  {
   "cell_type": "code",
   "execution_count": 21,
   "id": "6f06a056-980d-422b-83cd-c63ae6a8e321",
   "metadata": {},
   "outputs": [
    {
     "name": "stdout",
     "output_type": "stream",
     "text": [
      "<class 'pandas.core.frame.DataFrame'>\n",
      "RangeIndex: 1 entries, 0 to 0\n",
      "Data columns (total 63 columns):\n",
      " #   Column             Non-Null Count  Dtype  \n",
      "---  ------             --------------  -----  \n",
      " 0   Geo_FIPS           1 non-null      int64  \n",
      " 1   Geo_GEOID          1 non-null      object \n",
      " 2   Geo_NAME           1 non-null      object \n",
      " 3   Geo_QName          1 non-null      object \n",
      " 4   Geo_STUSAB         1 non-null      object \n",
      " 5   Geo_SUMLEV         1 non-null      int64  \n",
      " 6   Geo_GEOCOMP        1 non-null      int64  \n",
      " 7   Geo_FILEID         1 non-null      object \n",
      " 8   Geo_LOGRECNO       1 non-null      int64  \n",
      " 9   Geo_STATE          1 non-null      int64  \n",
      " 10  Geo_PLACE          1 non-null      int64  \n",
      " 11  Geo_CBSA           1 non-null      int64  \n",
      " 12  Geo_PCI            1 non-null      object \n",
      " 13  SE_A00001_001      1 non-null      int64  \n",
      " 14  SE_A14015_001      1 non-null      int64  \n",
      " 15  SE_A14015_002      1 non-null      int64  \n",
      " 16  SE_A14015_003      1 non-null      int64  \n",
      " 17  SE_A10011_001      1 non-null      int64  \n",
      " 18  SE_A10011_002      1 non-null      int64  \n",
      " 19  SE_A10011_003      1 non-null      int64  \n",
      " 20  PCT_SE_A10011_002  1 non-null      float64\n",
      " 21  PCT_SE_A10011_003  1 non-null      float64\n",
      " 22  SE_A10019_001      1 non-null      int64  \n",
      " 23  SE_A10019_002      1 non-null      int64  \n",
      " 24  SE_A10019_003      1 non-null      int64  \n",
      " 25  PCT_SE_A10019_002  1 non-null      float64\n",
      " 26  PCT_SE_A10019_003  1 non-null      float64\n",
      " 27  SE_A10016_001      1 non-null      int64  \n",
      " 28  SE_A10016_002      1 non-null      int64  \n",
      " 29  SE_A10016_003      1 non-null      int64  \n",
      " 30  PCT_SE_A10016_002  1 non-null      float64\n",
      " 31  PCT_SE_A10016_003  1 non-null      float64\n",
      " 32  SE_A10012_001      1 non-null      int64  \n",
      " 33  SE_A10012_002      1 non-null      int64  \n",
      " 34  SE_A10012_003      1 non-null      int64  \n",
      " 35  PCT_SE_A10012_002  1 non-null      float64\n",
      " 36  PCT_SE_A10012_003  1 non-null      float64\n",
      " 37  SE_A10017_001      1 non-null      int64  \n",
      " 38  SE_A10017_002      1 non-null      int64  \n",
      " 39  SE_A10017_003      1 non-null      int64  \n",
      " 40  PCT_SE_A10017_002  1 non-null      float64\n",
      " 41  PCT_SE_A10017_003  1 non-null      float64\n",
      " 42  SE_A10018_001      1 non-null      int64  \n",
      " 43  SE_A10018_002      1 non-null      int64  \n",
      " 44  SE_A10018_003      1 non-null      int64  \n",
      " 45  PCT_SE_A10018_002  1 non-null      float64\n",
      " 46  PCT_SE_A10018_003  1 non-null      float64\n",
      " 47  SE_A10014_001      1 non-null      int64  \n",
      " 48  SE_A10014_002      1 non-null      int64  \n",
      " 49  SE_A10014_003      1 non-null      int64  \n",
      " 50  PCT_SE_A10014_002  1 non-null      float64\n",
      " 51  PCT_SE_A10014_003  1 non-null      float64\n",
      " 52  SE_A10015_001      1 non-null      int64  \n",
      " 53  SE_A10015_002      1 non-null      int64  \n",
      " 54  SE_A10015_003      1 non-null      int64  \n",
      " 55  PCT_SE_A10015_002  1 non-null      float64\n",
      " 56  PCT_SE_A10015_003  1 non-null      float64\n",
      " 57  SE_A10013_001      1 non-null      int64  \n",
      " 58  SE_A10013_002      1 non-null      int64  \n",
      " 59  SE_A10013_003      1 non-null      int64  \n",
      " 60  PCT_SE_A10013_002  1 non-null      float64\n",
      " 61  PCT_SE_A10013_003  1 non-null      float64\n",
      " 62  SE_A14024_001      1 non-null      int64  \n",
      "dtypes: float64(18), int64(39), object(6)\n",
      "memory usage: 632.0+ bytes\n"
     ]
    },
    {
     "name": "stderr",
     "output_type": "stream",
     "text": [
      "/tmp/ipykernel_352/3722137582.py:2: FutureWarning: null_counts is deprecated. Use show_counts instead\n",
      "  df.info(verbose=True, null_counts=True)\n"
     ]
    }
   ],
   "source": [
    "#Let's get an idea of what's needed and what can be cleaned up\n",
    "df.info(verbose=True, null_counts=True)"
   ]
  },
  {
   "cell_type": "markdown",
   "id": "7d28c380-0041-4721-9562-94833303aa61",
   "metadata": {},
   "source": [
    "Proceeding to clean up data by first eliminating empty columns"
   ]
  },
  {
   "cell_type": "code",
   "execution_count": 18,
   "id": "6f7d7fd8-68eb-41fd-9910-091cf161e858",
   "metadata": {},
   "outputs": [
    {
     "data": {
      "text/plain": [
       "Index(['Geo_US', 'Geo_REGION', 'Geo_DIVISION', 'Geo_STATECE', 'Geo_COUNTY',\n",
       "       'Geo_COUSUB', 'Geo_PLACESE', 'Geo_TRACT', 'Geo_BLKGRP', 'Geo_CONCIT',\n",
       "       'Geo_AIANHH', 'Geo_AIANHHFP', 'Geo_AIHHTLI', 'Geo_AITSCE', 'Geo_AITS',\n",
       "       'Geo_ANRC', 'Geo_CSA', 'Geo_METDIV', 'Geo_MACC', 'Geo_MEMI',\n",
       "       'Geo_NECTA', 'Geo_CNECTA', 'Geo_NECTADIV', 'Geo_UA', 'Geo_UACP',\n",
       "       'Geo_CDCURR', 'Geo_SLDU', 'Geo_SLDL', 'Geo_VTD', 'Geo_ZCTA3',\n",
       "       'Geo_ZCTA5', 'Geo_SUBMCD', 'Geo_SDELM', 'Geo_SDSEC', 'Geo_SDUNI',\n",
       "       'Geo_UR', 'Geo_TAZ', 'Geo_UGA', 'Geo_BTTR', 'Geo_BTBG', 'Geo_PUMA5',\n",
       "       'Geo_PUMA1'],\n",
       "      dtype='object')"
      ]
     },
     "execution_count": 18,
     "metadata": {},
     "output_type": "execute_result"
    }
   ],
   "source": [
    "df.columns[df.isna().all().tolist()]"
   ]
  },
  {
   "cell_type": "code",
   "execution_count": 19,
   "id": "f3a9276c-8edb-488f-ab44-11f8b5beaede",
   "metadata": {},
   "outputs": [],
   "source": [
    "df=df.dropna(axis=1,how=\"all\")"
   ]
  },
  {
   "cell_type": "code",
   "execution_count": 20,
   "id": "b0a01ac0-ae85-45bb-a6e7-42fefb9bd34c",
   "metadata": {},
   "outputs": [
    {
     "name": "stdout",
     "output_type": "stream",
     "text": [
      "<class 'pandas.core.frame.DataFrame'>\n",
      "RangeIndex: 1 entries, 0 to 0\n",
      "Data columns (total 63 columns):\n",
      " #   Column             Non-Null Count  Dtype  \n",
      "---  ------             --------------  -----  \n",
      " 0   Geo_FIPS           1 non-null      int64  \n",
      " 1   Geo_GEOID          1 non-null      object \n",
      " 2   Geo_NAME           1 non-null      object \n",
      " 3   Geo_QName          1 non-null      object \n",
      " 4   Geo_STUSAB         1 non-null      object \n",
      " 5   Geo_SUMLEV         1 non-null      int64  \n",
      " 6   Geo_GEOCOMP        1 non-null      int64  \n",
      " 7   Geo_FILEID         1 non-null      object \n",
      " 8   Geo_LOGRECNO       1 non-null      int64  \n",
      " 9   Geo_STATE          1 non-null      int64  \n",
      " 10  Geo_PLACE          1 non-null      int64  \n",
      " 11  Geo_CBSA           1 non-null      int64  \n",
      " 12  Geo_PCI            1 non-null      object \n",
      " 13  SE_A00001_001      1 non-null      int64  \n",
      " 14  SE_A14015_001      1 non-null      int64  \n",
      " 15  SE_A14015_002      1 non-null      int64  \n",
      " 16  SE_A14015_003      1 non-null      int64  \n",
      " 17  SE_A10011_001      1 non-null      int64  \n",
      " 18  SE_A10011_002      1 non-null      int64  \n",
      " 19  SE_A10011_003      1 non-null      int64  \n",
      " 20  PCT_SE_A10011_002  1 non-null      float64\n",
      " 21  PCT_SE_A10011_003  1 non-null      float64\n",
      " 22  SE_A10019_001      1 non-null      int64  \n",
      " 23  SE_A10019_002      1 non-null      int64  \n",
      " 24  SE_A10019_003      1 non-null      int64  \n",
      " 25  PCT_SE_A10019_002  1 non-null      float64\n",
      " 26  PCT_SE_A10019_003  1 non-null      float64\n",
      " 27  SE_A10016_001      1 non-null      int64  \n",
      " 28  SE_A10016_002      1 non-null      int64  \n",
      " 29  SE_A10016_003      1 non-null      int64  \n",
      " 30  PCT_SE_A10016_002  1 non-null      float64\n",
      " 31  PCT_SE_A10016_003  1 non-null      float64\n",
      " 32  SE_A10012_001      1 non-null      int64  \n",
      " 33  SE_A10012_002      1 non-null      int64  \n",
      " 34  SE_A10012_003      1 non-null      int64  \n",
      " 35  PCT_SE_A10012_002  1 non-null      float64\n",
      " 36  PCT_SE_A10012_003  1 non-null      float64\n",
      " 37  SE_A10017_001      1 non-null      int64  \n",
      " 38  SE_A10017_002      1 non-null      int64  \n",
      " 39  SE_A10017_003      1 non-null      int64  \n",
      " 40  PCT_SE_A10017_002  1 non-null      float64\n",
      " 41  PCT_SE_A10017_003  1 non-null      float64\n",
      " 42  SE_A10018_001      1 non-null      int64  \n",
      " 43  SE_A10018_002      1 non-null      int64  \n",
      " 44  SE_A10018_003      1 non-null      int64  \n",
      " 45  PCT_SE_A10018_002  1 non-null      float64\n",
      " 46  PCT_SE_A10018_003  1 non-null      float64\n",
      " 47  SE_A10014_001      1 non-null      int64  \n",
      " 48  SE_A10014_002      1 non-null      int64  \n",
      " 49  SE_A10014_003      1 non-null      int64  \n",
      " 50  PCT_SE_A10014_002  1 non-null      float64\n",
      " 51  PCT_SE_A10014_003  1 non-null      float64\n",
      " 52  SE_A10015_001      1 non-null      int64  \n",
      " 53  SE_A10015_002      1 non-null      int64  \n",
      " 54  SE_A10015_003      1 non-null      int64  \n",
      " 55  PCT_SE_A10015_002  1 non-null      float64\n",
      " 56  PCT_SE_A10015_003  1 non-null      float64\n",
      " 57  SE_A10013_001      1 non-null      int64  \n",
      " 58  SE_A10013_002      1 non-null      int64  \n",
      " 59  SE_A10013_003      1 non-null      int64  \n",
      " 60  PCT_SE_A10013_002  1 non-null      float64\n",
      " 61  PCT_SE_A10013_003  1 non-null      float64\n",
      " 62  SE_A14024_001      1 non-null      int64  \n",
      "dtypes: float64(18), int64(39), object(6)\n",
      "memory usage: 632.0+ bytes\n"
     ]
    }
   ],
   "source": [
    "df.info()"
   ]
  },
  {
   "cell_type": "code",
   "execution_count": 23,
   "id": "9f5b27ca-7099-4a16-b75b-f80d642d72dc",
   "metadata": {},
   "outputs": [],
   "source": [
    "#Now that empty columns have been eliminated, let's continue getting rid of data that is not completely necessary"
   ]
  },
  {
   "cell_type": "code",
   "execution_count": 34,
   "id": "f6954293-51c0-43a3-bf1e-a279fa772364",
   "metadata": {},
   "outputs": [],
   "source": [
    "columns_to_drop = ['Geo_GEOCOMP','Geo_FILEID', 'Geo_CBSA']  "
   ]
  },
  {
   "cell_type": "code",
   "execution_count": 35,
   "id": "72227035-8a3c-47f1-8efa-84acdd7b40fc",
   "metadata": {},
   "outputs": [],
   "source": [
    "df=df.drop(columns_to_drop,axis=1)"
   ]
  },
  {
   "cell_type": "code",
   "execution_count": 36,
   "id": "9fa9ed65-518a-44ed-94c6-31de97dd24de",
   "metadata": {},
   "outputs": [
    {
     "name": "stdout",
     "output_type": "stream",
     "text": [
      "<class 'pandas.core.frame.DataFrame'>\n",
      "RangeIndex: 1 entries, 0 to 0\n",
      "Data columns (total 52 columns):\n",
      " #   Column             Non-Null Count  Dtype  \n",
      "---  ------             --------------  -----  \n",
      " 0   Geo_FIPS           1 non-null      int64  \n",
      " 1   Geo_QName          1 non-null      object \n",
      " 2   SE_A00001_001      1 non-null      int64  \n",
      " 3   SE_A14015_001      1 non-null      int64  \n",
      " 4   SE_A14015_002      1 non-null      int64  \n",
      " 5   SE_A14015_003      1 non-null      int64  \n",
      " 6   SE_A10011_001      1 non-null      int64  \n",
      " 7   SE_A10011_002      1 non-null      int64  \n",
      " 8   SE_A10011_003      1 non-null      int64  \n",
      " 9   PCT_SE_A10011_002  1 non-null      float64\n",
      " 10  PCT_SE_A10011_003  1 non-null      float64\n",
      " 11  SE_A10019_001      1 non-null      int64  \n",
      " 12  SE_A10019_002      1 non-null      int64  \n",
      " 13  SE_A10019_003      1 non-null      int64  \n",
      " 14  PCT_SE_A10019_002  1 non-null      float64\n",
      " 15  PCT_SE_A10019_003  1 non-null      float64\n",
      " 16  SE_A10016_001      1 non-null      int64  \n",
      " 17  SE_A10016_002      1 non-null      int64  \n",
      " 18  SE_A10016_003      1 non-null      int64  \n",
      " 19  PCT_SE_A10016_002  1 non-null      float64\n",
      " 20  PCT_SE_A10016_003  1 non-null      float64\n",
      " 21  SE_A10012_001      1 non-null      int64  \n",
      " 22  SE_A10012_002      1 non-null      int64  \n",
      " 23  SE_A10012_003      1 non-null      int64  \n",
      " 24  PCT_SE_A10012_002  1 non-null      float64\n",
      " 25  PCT_SE_A10012_003  1 non-null      float64\n",
      " 26  SE_A10017_001      1 non-null      int64  \n",
      " 27  SE_A10017_002      1 non-null      int64  \n",
      " 28  SE_A10017_003      1 non-null      int64  \n",
      " 29  PCT_SE_A10017_002  1 non-null      float64\n",
      " 30  PCT_SE_A10017_003  1 non-null      float64\n",
      " 31  SE_A10018_001      1 non-null      int64  \n",
      " 32  SE_A10018_002      1 non-null      int64  \n",
      " 33  SE_A10018_003      1 non-null      int64  \n",
      " 34  PCT_SE_A10018_002  1 non-null      float64\n",
      " 35  PCT_SE_A10018_003  1 non-null      float64\n",
      " 36  SE_A10014_001      1 non-null      int64  \n",
      " 37  SE_A10014_002      1 non-null      int64  \n",
      " 38  SE_A10014_003      1 non-null      int64  \n",
      " 39  PCT_SE_A10014_002  1 non-null      float64\n",
      " 40  PCT_SE_A10014_003  1 non-null      float64\n",
      " 41  SE_A10015_001      1 non-null      int64  \n",
      " 42  SE_A10015_002      1 non-null      int64  \n",
      " 43  SE_A10015_003      1 non-null      int64  \n",
      " 44  PCT_SE_A10015_002  1 non-null      float64\n",
      " 45  PCT_SE_A10015_003  1 non-null      float64\n",
      " 46  SE_A10013_001      1 non-null      int64  \n",
      " 47  SE_A10013_002      1 non-null      int64  \n",
      " 48  SE_A10013_003      1 non-null      int64  \n",
      " 49  PCT_SE_A10013_002  1 non-null      float64\n",
      " 50  PCT_SE_A10013_003  1 non-null      float64\n",
      " 51  SE_A14024_001      1 non-null      int64  \n",
      "dtypes: float64(18), int64(33), object(1)\n",
      "memory usage: 544.0+ bytes\n"
     ]
    }
   ],
   "source": [
    "df.info()"
   ]
  },
  {
   "cell_type": "code",
   "execution_count": 38,
   "id": "842430c2-f53a-4c53-b395-de93d9c5598b",
   "metadata": {},
   "outputs": [
    {
     "data": {
      "text/plain": [
       "['Geo_FIPS',\n",
       " 'Geo_QName',\n",
       " 'SE_A00001_001',\n",
       " 'SE_A14015_001',\n",
       " 'SE_A14015_002',\n",
       " 'SE_A14015_003',\n",
       " 'SE_A10011_001',\n",
       " 'SE_A10011_002',\n",
       " 'SE_A10011_003',\n",
       " 'PCT_SE_A10011_002',\n",
       " 'PCT_SE_A10011_003',\n",
       " 'SE_A10019_001',\n",
       " 'SE_A10019_002',\n",
       " 'SE_A10019_003',\n",
       " 'PCT_SE_A10019_002',\n",
       " 'PCT_SE_A10019_003',\n",
       " 'SE_A10016_001',\n",
       " 'SE_A10016_002',\n",
       " 'SE_A10016_003',\n",
       " 'PCT_SE_A10016_002',\n",
       " 'PCT_SE_A10016_003',\n",
       " 'SE_A10012_001',\n",
       " 'SE_A10012_002',\n",
       " 'SE_A10012_003',\n",
       " 'PCT_SE_A10012_002',\n",
       " 'PCT_SE_A10012_003',\n",
       " 'SE_A10017_001',\n",
       " 'SE_A10017_002',\n",
       " 'SE_A10017_003',\n",
       " 'PCT_SE_A10017_002',\n",
       " 'PCT_SE_A10017_003',\n",
       " 'SE_A10018_001',\n",
       " 'SE_A10018_002',\n",
       " 'SE_A10018_003',\n",
       " 'PCT_SE_A10018_002',\n",
       " 'PCT_SE_A10018_003',\n",
       " 'SE_A10014_001',\n",
       " 'SE_A10014_002',\n",
       " 'SE_A10014_003',\n",
       " 'PCT_SE_A10014_002',\n",
       " 'PCT_SE_A10014_003',\n",
       " 'SE_A10015_001',\n",
       " 'SE_A10015_002',\n",
       " 'SE_A10015_003',\n",
       " 'PCT_SE_A10015_002',\n",
       " 'PCT_SE_A10015_003',\n",
       " 'SE_A10013_001',\n",
       " 'SE_A10013_002',\n",
       " 'SE_A10013_003',\n",
       " 'PCT_SE_A10013_002',\n",
       " 'PCT_SE_A10013_003',\n",
       " 'SE_A14024_001']"
      ]
     },
     "execution_count": 38,
     "metadata": {},
     "output_type": "execute_result"
    }
   ],
   "source": [
    "#defining columns to rename\n",
    "columns=list(df)\n",
    "columns"
   ]
  },
  {
   "cell_type": "code",
   "execution_count": 45,
   "id": "b83b811e-4d8a-429a-9e26-98f90189510c",
   "metadata": {},
   "outputs": [],
   "source": [
    "#renaming columns per metadata file\n",
    "df.columns=['FIPS', \n",
    "            'QName',\n",
    "            'Total Population',\n",
    "            'Median Household Income Occupied Housing Units:',\n",
    "            'Median Household Income Occupied Housing Units: Owner Occupied',\n",
    "            'Median Household Income Occupied Housing Units: Renter Occupied',\n",
    "            'Households:',\n",
    "            'Households: with Earnings',\n",
    "            'Households: No Earnings',\n",
    "            '% Households: with Earnings',\n",
    "            'Households: No Earnings',\n",
    "            'Households:',\n",
    "            'Households: with Wage or Salary Income',\n",
    "            'Households: No Wage or Salary Income',\n",
    "            '% Households: with Wage or Salary Income',\n",
    "            '% Households: No Wage or Salary Income',\n",
    "            'Households:',\n",
    "            'Households: with Self-Employment Income',\n",
    "            'Households: No Self-Employment Income',\n",
    "            '% Households: with Self-Employment Income',\n",
    "            '% Households: No Self-Employment Income',\n",
    "            'Households:',\n",
    "            'Households: with Interest, Dividends, or Net Rental Income',\n",
    "            'Households: No Interest, Dividends, or Net Rental Income',\n",
    "            '% Households: with Interest, Dividends, or Net Rental Income',\n",
    "            '% Households: No Interest, Dividends, or Net Rental Income',\n",
    "            'Households:',\n",
    "            'Households: with Social Security Income',\n",
    "            'Households: No Social Security Income',\n",
    "            '% Households: with Social Security Income',\n",
    "            '% Households: No Social Security Income',\n",
    "            'Households:',\n",
    "            'Households: with Supplemental Security Income (Ssi)',\n",
    "            'Households: No Supplemental Security Income (Ssi)',\n",
    "            '% Households: with Supplemental Security Income (Ssi)',\n",
    "            '% Households: No Supplemental Security Income (Ssi)',\n",
    "            'Households:',\n",
    "            'Households: with Public Assistance Income',\n",
    "            'Households: No Public Assistance Income',\n",
    "            '% Households: with Public Assistance Income',\n",
    "            '% Households: No Public Assistance Income',\n",
    "            'Households:',\n",
    "            'Households: with Retirement Income',\n",
    "            'Households: No Retirement Income',\n",
    "            '% Households: with Retirement Income',\n",
    "            '% Households: No Retirement Income',\n",
    "            'Households:',\n",
    "            'Households: with Other Types of Income',\n",
    "            'Households: No Other Types of Income',\n",
    "            '% Households: with Other Types of Income',\n",
    "            '% Households: No Other Types of Income',\n",
    "            'Per Capita Income (In 2019 Inflation Adjusted Dollars)',]"
   ]
  },
  {
   "cell_type": "code",
   "execution_count": 46,
   "id": "a541a296-6c60-46ff-bb89-ab724cfab271",
   "metadata": {},
   "outputs": [
    {
     "name": "stdout",
     "output_type": "stream",
     "text": [
      "<class 'pandas.core.frame.DataFrame'>\n",
      "RangeIndex: 1 entries, 0 to 0\n",
      "Data columns (total 52 columns):\n",
      " #   Column                                                           Non-Null Count  Dtype  \n",
      "---  ------                                                           --------------  -----  \n",
      " 0   FIPS                                                             1 non-null      int64  \n",
      " 1   QName                                                            1 non-null      object \n",
      " 2   Total Population                                                 1 non-null      int64  \n",
      " 3   Median Household Income Occupied Housing Units:                  1 non-null      int64  \n",
      " 4   Median Household Income Occupied Housing Units: Owner Occupied   1 non-null      int64  \n",
      " 5   Median Household Income Occupied Housing Units: Renter Occupied  1 non-null      int64  \n",
      " 6   Households:                                                      1 non-null      int64  \n",
      " 7   Households: with Earnings                                        1 non-null      int64  \n",
      " 8   Households: No Earnings                                          1 non-null      int64  \n",
      " 9   % Households: with Earnings                                      1 non-null      float64\n",
      " 10  Households: No Earnings                                          1 non-null      float64\n",
      " 11  Households:                                                      1 non-null      int64  \n",
      " 12  Households: with Wage or Salary Income                           1 non-null      int64  \n",
      " 13  Households: No Wage or Salary Income                             1 non-null      int64  \n",
      " 14  % Households: with Wage or Salary Income                         1 non-null      float64\n",
      " 15  % Households: No Wage or Salary Income                           1 non-null      float64\n",
      " 16  Households:                                                      1 non-null      int64  \n",
      " 17  Households: with Self-Employment Income                          1 non-null      int64  \n",
      " 18  Households: No Self-Employment Income                            1 non-null      int64  \n",
      " 19  % Households: with Self-Employment Income                        1 non-null      float64\n",
      " 20  % Households: No Self-Employment Income                          1 non-null      float64\n",
      " 21  Households:                                                      1 non-null      int64  \n",
      " 22  Households: with Interest, Dividends, or Net Rental Income       1 non-null      int64  \n",
      " 23  Households: No Interest, Dividends, or Net Rental Income         1 non-null      int64  \n",
      " 24  % Households: with Interest, Dividends, or Net Rental Income     1 non-null      float64\n",
      " 25  % Households: No Interest, Dividends, or Net Rental Income       1 non-null      float64\n",
      " 26  Households:                                                      1 non-null      int64  \n",
      " 27  Households: with Social Security Income                          1 non-null      int64  \n",
      " 28  Households: No Social Security Income                            1 non-null      int64  \n",
      " 29  % Households: with Social Security Income                        1 non-null      float64\n",
      " 30  % Households: No Social Security Income                          1 non-null      float64\n",
      " 31  Households:                                                      1 non-null      int64  \n",
      " 32  Households: with Supplemental Security Income (Ssi)              1 non-null      int64  \n",
      " 33  Households: No Supplemental Security Income (Ssi)                1 non-null      int64  \n",
      " 34  % Households: with Supplemental Security Income (Ssi)            1 non-null      float64\n",
      " 35  % Households: No Supplemental Security Income (Ssi)              1 non-null      float64\n",
      " 36  Households:                                                      1 non-null      int64  \n",
      " 37  Households: with Public Assistance Income                        1 non-null      int64  \n",
      " 38  Households: No Public Assistance Income                          1 non-null      int64  \n",
      " 39  % Households: with Public Assistance Income                      1 non-null      float64\n",
      " 40  % Households: No Public Assistance Income                        1 non-null      float64\n",
      " 41  Households:                                                      1 non-null      int64  \n",
      " 42  Households: with Retirement Income                               1 non-null      int64  \n",
      " 43  Households: No Retirement Income                                 1 non-null      int64  \n",
      " 44  % Households: with Retirement Income                             1 non-null      float64\n",
      " 45  % Households: No Retirement Income                               1 non-null      float64\n",
      " 46  Households:                                                      1 non-null      int64  \n",
      " 47  Households: with Other Types of Income                           1 non-null      int64  \n",
      " 48  Households: No Other Types of Income                             1 non-null      int64  \n",
      " 49  % Households: with Other Types of Income                         1 non-null      float64\n",
      " 50  % Households: No Other Types of Income                           1 non-null      float64\n",
      " 51  Per Capita Income (In 2019 Inflation Adjusted Dollars)           1 non-null      int64  \n",
      "dtypes: float64(18), int64(33), object(1)\n",
      "memory usage: 544.0+ bytes\n"
     ]
    }
   ],
   "source": [
    "#confirming new column names \n",
    "df.info()"
   ]
  },
  {
   "cell_type": "code",
   "execution_count": 47,
   "id": "bf0ac720-1f7e-446d-9b31-d4eacfcde1f7",
   "metadata": {},
   "outputs": [],
   "source": [
    "#Comparing renters' vs. owners' household income "
   ]
  },
  {
   "cell_type": "code",
   "execution_count": 49,
   "id": "de99c08e-db10-468e-a43b-8a83fabe2ad7",
   "metadata": {},
   "outputs": [
    {
     "data": {
      "text/plain": [
       "count         1.0\n",
       "mean     102792.0\n",
       "std           NaN\n",
       "min      102792.0\n",
       "25%      102792.0\n",
       "50%      102792.0\n",
       "75%      102792.0\n",
       "max      102792.0\n",
       "Name: Median Household Income Occupied Housing Units: Owner Occupied, dtype: float64"
      ]
     },
     "execution_count": 49,
     "metadata": {},
     "output_type": "execute_result"
    }
   ],
   "source": [
    "df['Median Household Income Occupied Housing Units: Owner Occupied'].describe()"
   ]
  },
  {
   "cell_type": "code",
   "execution_count": 50,
   "id": "dda23d39-88bd-42fa-8a8f-f4049b347273",
   "metadata": {},
   "outputs": [
    {
     "data": {
      "text/plain": [
       "count        1.0\n",
       "mean     46250.0\n",
       "std          NaN\n",
       "min      46250.0\n",
       "25%      46250.0\n",
       "50%      46250.0\n",
       "75%      46250.0\n",
       "max      46250.0\n",
       "Name: Median Household Income Occupied Housing Units: Renter Occupied, dtype: float64"
      ]
     },
     "execution_count": 50,
     "metadata": {},
     "output_type": "execute_result"
    }
   ],
   "source": [
    "df['Median Household Income Occupied Housing Units: Renter Occupied'].describe()"
   ]
  },
  {
   "cell_type": "code",
   "execution_count": null,
   "id": "1a80c703-f686-4dba-8f9f-7eca28c81ffc",
   "metadata": {},
   "outputs": [],
   "source": []
  }
 ],
 "metadata": {
  "kernelspec": {
   "display_name": "Python 3 (ipykernel)",
   "language": "python",
   "name": "python3"
  },
  "language_info": {
   "codemirror_mode": {
    "name": "ipython",
    "version": 3
   },
   "file_extension": ".py",
   "mimetype": "text/x-python",
   "name": "python",
   "nbconvert_exporter": "python",
   "pygments_lexer": "ipython3",
   "version": "3.9.6"
  }
 },
 "nbformat": 4,
 "nbformat_minor": 5
}
