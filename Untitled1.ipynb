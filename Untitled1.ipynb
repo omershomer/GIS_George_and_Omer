{
 "cells": [
  {
   "cell_type": "code",
   "execution_count": 89,
   "id": "0f3a08fc-cbd3-4c2c-ad09-9036cfc9b5cf",
   "metadata": {},
   "outputs": [],
   "source": [
    "#Importing the libraries that we will be using. \n",
    "import geopandas as gpd\n",
    "import matplotlib.pyplot as plt\n",
    "import pandas as pd\n",
    "import matplotlib.pyplot as plt"
   ]
  },
  {
   "cell_type": "code",
   "execution_count": 90,
   "id": "d5f32ceb-00bd-41f1-8ebc-00e5775b9de6",
   "metadata": {},
   "outputs": [],
   "source": [
    "comtowork=gpd.read_file('data/Commuting Patterns.csv')"
   ]
  },
  {
   "cell_type": "code",
   "execution_count": 91,
   "id": "0060229e-36dd-4587-b850-27c66cd636e4",
   "metadata": {},
   "outputs": [
    {
     "data": {
      "text/plain": [
       "<AxesSubplot:>"
      ]
     },
     "execution_count": 91,
     "metadata": {},
     "output_type": "execute_result"
    },
    {
     "data": {
      "image/png": "[encoded data removed]",
      "text/plain": [
       "<Figure size 432x288 with 1 Axes>"
      ]
     },
     "metadata": {
      "needs_background": "light"
     },
     "output_type": "display_data"
    }
   ],
   "source": [
    "comtowork.plot()"
   ]
  },
  {
   "cell_type": "code",
   "execution_count": 92,
   "id": "3c83d7c3-e059-4e46-8176-f8ed651157cd",
   "metadata": {},
   "outputs": [
    {
     "data": {
      "text/plain": [
       "<bound method NDFrame.describe of             geoid             name C08301001 C08301001, Error C08301002  \\\n",
       "0  16000US0644000  Los Angeles, CA   2021061            16828   1588832   \n",
       "\n",
       "  C08301002, Error C08301003 C08301003, Error C08301004 C08301004, Error  ...  \\\n",
       "0            15822   1409553            14997    179279             8058  ...   \n",
       "\n",
       "  C08301007, Error C08301008 C08301008, Error C08301009 C08301009, Error  \\\n",
       "0             2279    177099             7587     68244             5671   \n",
       "\n",
       "  C08301010 C08301010, Error C08301011 C08301011, Error geometry  \n",
       "0     56477             4427    130409             5682     None  \n",
       "\n",
       "[1 rows x 25 columns]>"
      ]
     },
     "execution_count": 92,
     "metadata": {},
     "output_type": "execute_result"
    }
   ],
   "source": [
    "comtowork.describe"
   ]
  },
  {
   "cell_type": "code",
   "execution_count": 93,
   "id": "a6e68524-ded4-4f39-8849-0c88fa3a3150",
   "metadata": {},
   "outputs": [
    {
     "data": {
      "text/html": [
       "<div>\n",
       "<style scoped>\n",
       "    .dataframe tbody tr th:only-of-type {\n",
       "        vertical-align: middle;\n",
       "    }\n",
       "\n",
       "    .dataframe tbody tr th {\n",
       "        vertical-align: top;\n",
       "    }\n",
       "\n",
       "    .dataframe thead th {\n",
       "        text-align: right;\n",
       "    }\n",
       "</style>\n",
       "<table border=\"1\" class=\"dataframe\">\n",
       "  <thead>\n",
       "    <tr style=\"text-align: right;\">\n",
       "      <th></th>\n",
       "      <th>geoid</th>\n",
       "      <th>name</th>\n",
       "      <th>C08301001</th>\n",
       "      <th>C08301001, Error</th>\n",
       "      <th>C08301002</th>\n",
       "      <th>C08301002, Error</th>\n",
       "      <th>C08301003</th>\n",
       "      <th>C08301003, Error</th>\n",
       "      <th>C08301004</th>\n",
       "      <th>C08301004, Error</th>\n",
       "      <th>...</th>\n",
       "      <th>C08301007, Error</th>\n",
       "      <th>C08301008</th>\n",
       "      <th>C08301008, Error</th>\n",
       "      <th>C08301009</th>\n",
       "      <th>C08301009, Error</th>\n",
       "      <th>C08301010</th>\n",
       "      <th>C08301010, Error</th>\n",
       "      <th>C08301011</th>\n",
       "      <th>C08301011, Error</th>\n",
       "      <th>geometry</th>\n",
       "    </tr>\n",
       "  </thead>\n",
       "  <tbody>\n",
       "    <tr>\n",
       "      <th>0</th>\n",
       "      <td>16000US0644000</td>\n",
       "      <td>Los Angeles, CA</td>\n",
       "      <td>2021061</td>\n",
       "      <td>16828</td>\n",
       "      <td>1588832</td>\n",
       "      <td>15822</td>\n",
       "      <td>1409553</td>\n",
       "      <td>14997</td>\n",
       "      <td>179279</td>\n",
       "      <td>8058</td>\n",
       "      <td>...</td>\n",
       "      <td>2279</td>\n",
       "      <td>177099</td>\n",
       "      <td>7587</td>\n",
       "      <td>68244</td>\n",
       "      <td>5671</td>\n",
       "      <td>56477</td>\n",
       "      <td>4427</td>\n",
       "      <td>130409</td>\n",
       "      <td>5682</td>\n",
       "      <td>None</td>\n",
       "    </tr>\n",
       "  </tbody>\n",
       "</table>\n",
       "<p>1 rows × 25 columns</p>\n",
       "</div>"
      ],
      "text/plain": [
       "            geoid             name C08301001 C08301001, Error C08301002  \\\n",
       "0  16000US0644000  Los Angeles, CA   2021061            16828   1588832   \n",
       "\n",
       "  C08301002, Error C08301003 C08301003, Error C08301004 C08301004, Error  ...  \\\n",
       "0            15822   1409553            14997    179279             8058  ...   \n",
       "\n",
       "  C08301007, Error C08301008 C08301008, Error C08301009 C08301009, Error  \\\n",
       "0             2279    177099             7587     68244             5671   \n",
       "\n",
       "  C08301010 C08301010, Error C08301011 C08301011, Error geometry  \n",
       "0     56477             4427    130409             5682     None  \n",
       "\n",
       "[1 rows x 25 columns]"
      ]
     },
     "execution_count": 93,
     "metadata": {},
     "output_type": "execute_result"
    }
   ],
   "source": [
    "comtowork.head()"
   ]
  },
  {
   "cell_type": "code",
   "execution_count": 94,
   "id": "250ccda8-1f3d-4380-9c26-62084a6a1943",
   "metadata": {},
   "outputs": [
    {
     "data": {
      "text/plain": [
       "(1, 25)"
      ]
     },
     "execution_count": 94,
     "metadata": {},
     "output_type": "execute_result"
    }
   ],
   "source": [
    "comtowork.shape"
   ]
  },
  {
   "cell_type": "code",
   "execution_count": 95,
   "id": "a6b03158-612f-47ec-86ab-03584877e2cc",
   "metadata": {},
   "outputs": [
    {
     "name": "stdout",
     "output_type": "stream",
     "text": [
      "<class 'geopandas.geodataframe.GeoDataFrame'>\n",
      "RangeIndex: 1 entries, 0 to 0\n",
      "Data columns (total 25 columns):\n",
      " #   Column            Non-Null Count  Dtype   \n",
      "---  ------            --------------  -----   \n",
      " 0   geoid             1 non-null      object  \n",
      " 1   name              1 non-null      object  \n",
      " 2   C08301001         1 non-null      object  \n",
      " 3   C08301001, Error  1 non-null      object  \n",
      " 4   C08301002         1 non-null      object  \n",
      " 5   C08301002, Error  1 non-null      object  \n",
      " 6   C08301003         1 non-null      object  \n",
      " 7   C08301003, Error  1 non-null      object  \n",
      " 8   C08301004         1 non-null      object  \n",
      " 9   C08301004, Error  1 non-null      object  \n",
      " 10  C08301005         1 non-null      object  \n",
      " 11  C08301005, Error  1 non-null      object  \n",
      " 12  C08301006         1 non-null      object  \n",
      " 13  C08301006, Error  1 non-null      object  \n",
      " 14  C08301007         1 non-null      object  \n",
      " 15  C08301007, Error  1 non-null      object  \n",
      " 16  C08301008         1 non-null      object  \n",
      " 17  C08301008, Error  1 non-null      object  \n",
      " 18  C08301009         1 non-null      object  \n",
      " 19  C08301009, Error  1 non-null      object  \n",
      " 20  C08301010         1 non-null      object  \n",
      " 21  C08301010, Error  1 non-null      object  \n",
      " 22  C08301011         1 non-null      object  \n",
      " 23  C08301011, Error  1 non-null      object  \n",
      " 24  geometry          0 non-null      geometry\n",
      "dtypes: geometry(1), object(24)\n",
      "memory usage: 328.0+ bytes\n"
     ]
    }
   ],
   "source": [
    "comtowork.info()"
   ]
  },
  {
   "cell_type": "code",
   "execution_count": 96,
   "id": "b5fbcfda-94f3-46c8-b780-967148427e87",
   "metadata": {},
   "outputs": [
    {
     "name": "stderr",
     "output_type": "stream",
     "text": [
      "/tmp/ipykernel_1581/2015186607.py:1: FutureWarning: In a future version of pandas all arguments of DataFrame.drop except for the argument 'labels' will be keyword-only\n",
      "  comtowork = comtowork.drop('C08301001', 1)\n"
     ]
    }
   ],
   "source": [
    "comtowork = comtowork.drop('C08301001', 1)"
   ]
  },
  {
   "cell_type": "code",
   "execution_count": 97,
   "id": "e2d17899-2951-4845-9711-5cab2cf541ef",
   "metadata": {},
   "outputs": [
    {
     "name": "stdout",
     "output_type": "stream",
     "text": [
      "<class 'geopandas.geodataframe.GeoDataFrame'>\n",
      "RangeIndex: 1 entries, 0 to 0\n",
      "Data columns (total 24 columns):\n",
      " #   Column            Non-Null Count  Dtype   \n",
      "---  ------            --------------  -----   \n",
      " 0   geoid             1 non-null      object  \n",
      " 1   name              1 non-null      object  \n",
      " 2   C08301001, Error  1 non-null      object  \n",
      " 3   C08301002         1 non-null      object  \n",
      " 4   C08301002, Error  1 non-null      object  \n",
      " 5   C08301003         1 non-null      object  \n",
      " 6   C08301003, Error  1 non-null      object  \n",
      " 7   C08301004         1 non-null      object  \n",
      " 8   C08301004, Error  1 non-null      object  \n",
      " 9   C08301005         1 non-null      object  \n",
      " 10  C08301005, Error  1 non-null      object  \n",
      " 11  C08301006         1 non-null      object  \n",
      " 12  C08301006, Error  1 non-null      object  \n",
      " 13  C08301007         1 non-null      object  \n",
      " 14  C08301007, Error  1 non-null      object  \n",
      " 15  C08301008         1 non-null      object  \n",
      " 16  C08301008, Error  1 non-null      object  \n",
      " 17  C08301009         1 non-null      object  \n",
      " 18  C08301009, Error  1 non-null      object  \n",
      " 19  C08301010         1 non-null      object  \n",
      " 20  C08301010, Error  1 non-null      object  \n",
      " 21  C08301011         1 non-null      object  \n",
      " 22  C08301011, Error  1 non-null      object  \n",
      " 23  geometry          0 non-null      geometry\n",
      "dtypes: geometry(1), object(23)\n",
      "memory usage: 320.0+ bytes\n"
     ]
    }
   ],
   "source": [
    "comtowork.info()"
   ]
  },
  {
   "cell_type": "code",
   "execution_count": 98,
   "id": "52beeaa5-c807-4fa7-89a7-8e610ce19d5d",
   "metadata": {},
   "outputs": [
    {
     "name": "stderr",
     "output_type": "stream",
     "text": [
      "/tmp/ipykernel_1581/3482010287.py:1: FutureWarning: In a future version of pandas all arguments of DataFrame.drop except for the argument 'labels' will be keyword-only\n",
      "  comtowork = comtowork.drop('C08301001, Error', 1)\n"
     ]
    }
   ],
   "source": [
    "comtowork = comtowork.drop('C08301001, Error', 1)"
   ]
  },
  {
   "cell_type": "code",
   "execution_count": 99,
   "id": "e37ae875-dfd9-442a-b2fe-09c881f5b4b0",
   "metadata": {},
   "outputs": [
    {
     "name": "stdout",
     "output_type": "stream",
     "text": [
      "<class 'geopandas.geodataframe.GeoDataFrame'>\n",
      "RangeIndex: 1 entries, 0 to 0\n",
      "Data columns (total 23 columns):\n",
      " #   Column            Non-Null Count  Dtype   \n",
      "---  ------            --------------  -----   \n",
      " 0   geoid             1 non-null      object  \n",
      " 1   name              1 non-null      object  \n",
      " 2   C08301002         1 non-null      object  \n",
      " 3   C08301002, Error  1 non-null      object  \n",
      " 4   C08301003         1 non-null      object  \n",
      " 5   C08301003, Error  1 non-null      object  \n",
      " 6   C08301004         1 non-null      object  \n",
      " 7   C08301004, Error  1 non-null      object  \n",
      " 8   C08301005         1 non-null      object  \n",
      " 9   C08301005, Error  1 non-null      object  \n",
      " 10  C08301006         1 non-null      object  \n",
      " 11  C08301006, Error  1 non-null      object  \n",
      " 12  C08301007         1 non-null      object  \n",
      " 13  C08301007, Error  1 non-null      object  \n",
      " 14  C08301008         1 non-null      object  \n",
      " 15  C08301008, Error  1 non-null      object  \n",
      " 16  C08301009         1 non-null      object  \n",
      " 17  C08301009, Error  1 non-null      object  \n",
      " 18  C08301010         1 non-null      object  \n",
      " 19  C08301010, Error  1 non-null      object  \n",
      " 20  C08301011         1 non-null      object  \n",
      " 21  C08301011, Error  1 non-null      object  \n",
      " 22  geometry          0 non-null      geometry\n",
      "dtypes: geometry(1), object(22)\n",
      "memory usage: 312.0+ bytes\n"
     ]
    }
   ],
   "source": [
    "comtowork.info()"
   ]
  },
  {
   "cell_type": "code",
   "execution_count": 100,
   "id": "bfdd0359-f5f7-45da-8c73-3b62768d039f",
   "metadata": {},
   "outputs": [
    {
     "data": {
      "text/plain": [
       "<AxesSubplot:>"
      ]
     },
     "execution_count": 100,
     "metadata": {},
     "output_type": "execute_result"
    },
    {
     "data": {
      "image/png": "[encoded data removed]",
      "text/plain": [
       "<Figure size 432x288 with 1 Axes>"
      ]
     },
     "metadata": {
      "needs_background": "light"
     },
     "output_type": "display_data"
    }
   ],
   "source": [
    "comtowork.plot()"
   ]
  },
  {
   "cell_type": "code",
   "execution_count": 101,
   "id": "f09c631f-3cb3-4a6a-a97b-03a920386235",
   "metadata": {},
   "outputs": [
    {
     "data": {
      "text/plain": [
       "['geoid',\n",
       " 'name',\n",
       " 'C08301002',\n",
       " 'C08301002, Error',\n",
       " 'C08301003',\n",
       " 'C08301003, Error',\n",
       " 'C08301004',\n",
       " 'C08301004, Error',\n",
       " 'C08301005',\n",
       " 'C08301005, Error',\n",
       " 'C08301006',\n",
       " 'C08301006, Error',\n",
       " 'C08301007',\n",
       " 'C08301007, Error',\n",
       " 'C08301008',\n",
       " 'C08301008, Error',\n",
       " 'C08301009',\n",
       " 'C08301009, Error',\n",
       " 'C08301010',\n",
       " 'C08301010, Error',\n",
       " 'C08301011',\n",
       " 'C08301011, Error',\n",
       " 'geometry']"
      ]
     },
     "execution_count": 101,
     "metadata": {},
     "output_type": "execute_result"
    }
   ],
   "source": [
    "list(comtowork)"
   ]
  },
  {
   "cell_type": "code",
   "execution_count": null,
   "id": "ef5e73cb-49a8-46dc-995c-3e7589e2f177",
   "metadata": {},
   "outputs": [],
   "source": []
  },
  {
   "cell_type": "code",
   "execution_count": null,
   "id": "5cbeb2d1-45b7-4f0e-b1dc-36cf5fe0a5e6",
   "metadata": {},
   "outputs": [],
   "source": []
  },
  {
   "cell_type": "code",
   "execution_count": 103,
   "id": "6d9120d8-b48d-4f13-b657-5707cde562a0",
   "metadata": {},
   "outputs": [],
   "source": [
    "comtowork.columns=['geoid',\n",
    "                   'name',\n",
    "                   'Car, truck, or van:', \n",
    "                   '\" MOE',\n",
    "                   'Drove alone', \n",
    "                   '\" MOE',\n",
    "                   'Carpooled:', \n",
    "                   '\" MOE',\n",
    "                   'In 2-person carpool', \n",
    "                   '\" MOE',\n",
    "                   'In 3-person carpool', \n",
    "                   '\" MOE',\n",
    "                   'In 4-or-more-person carpool', \n",
    "                   '\" MOE',\n",
    "                   'Public transportation (excluding taxicab)', \n",
    "                   '\" MOE',\n",
    "                   'Walked', \n",
    "                   '\" MOE',\n",
    "                   'Taxicab, motorcycle, bicycle, or other means', \n",
    "                   '\" MOE',\n",
    "                   'Worked from home', \n",
    "                   '\" MOE',\n",
    "                    'geometry']"
   ]
  },
  {
   "cell_type": "code",
   "execution_count": 104,
   "id": "50ea073e-34b1-4621-9f65-b1408b2e6bea",
   "metadata": {},
   "outputs": [
    {
     "data": {
      "text/plain": [
       "['geoid',\n",
       " 'name',\n",
       " 'Car, truck, or van:',\n",
       " '\" MOE',\n",
       " 'Drove alone',\n",
       " '\" MOE',\n",
       " 'Carpooled:',\n",
       " '\" MOE',\n",
       " 'In 2-person carpool',\n",
       " '\" MOE',\n",
       " 'In 3-person carpool',\n",
       " '\" MOE',\n",
       " 'In 4-or-more-person carpool',\n",
       " '\" MOE',\n",
       " 'Public transportation (excluding taxicab)',\n",
       " '\" MOE',\n",
       " 'Walked',\n",
       " '\" MOE',\n",
       " 'Taxicab, motorcycle, bicycle, or other means',\n",
       " '\" MOE',\n",
       " 'Worked from home',\n",
       " '\" MOE',\n",
       " 'geometry']"
      ]
     },
     "execution_count": 104,
     "metadata": {},
     "output_type": "execute_result"
    }
   ],
   "source": [
    "list(comtowork)"
   ]
  },
  {
   "cell_type": "code",
   "execution_count": 105,
   "id": "45721cc3-ded5-4fdb-8944-04885adb47df",
   "metadata": {},
   "outputs": [
    {
     "ename": "TypeError",
     "evalue": "no numeric data to plot",
     "output_type": "error",
     "traceback": [
      "\u001b[0;31m---------------------------------------------------------------------------\u001b[0m",
      "\u001b[0;31mTypeError\u001b[0m                                 Traceback (most recent call last)",
      "\u001b[0;32m/tmp/ipykernel_1581/292075088.py\u001b[0m in \u001b[0;36m<module>\u001b[0;34m\u001b[0m\n\u001b[0;32m----> 1\u001b[0;31m \u001b[0mcomtowork\u001b[0m\u001b[0;34m[\u001b[0m\u001b[0;34m'Car, truck, or van:'\u001b[0m\u001b[0;34m]\u001b[0m\u001b[0;34m.\u001b[0m\u001b[0mplot\u001b[0m\u001b[0;34m.\u001b[0m\u001b[0mhist\u001b[0m\u001b[0;34m(\u001b[0m\u001b[0mfigsize\u001b[0m\u001b[0;34m=\u001b[0m\u001b[0;34m(\u001b[0m\u001b[0;36m15\u001b[0m\u001b[0;34m,\u001b[0m\u001b[0;36m8\u001b[0m\u001b[0;34m)\u001b[0m\u001b[0;34m,\u001b[0m\u001b[0mbins\u001b[0m\u001b[0;34m=\u001b[0m\u001b[0;36m20\u001b[0m\u001b[0;34m)\u001b[0m\u001b[0;34m\u001b[0m\u001b[0;34m\u001b[0m\u001b[0m\n\u001b[0m",
      "\u001b[0;32m/opt/conda/lib/python3.9/site-packages/pandas/plotting/_core.py\u001b[0m in \u001b[0;36mhist\u001b[0;34m(self, by, bins, **kwargs)\u001b[0m\n\u001b[1;32m   1311\u001b[0m             \u001b[0;34m>>\u001b[0m\u001b[0;34m>\u001b[0m \u001b[0max\u001b[0m \u001b[0;34m=\u001b[0m \u001b[0mdf\u001b[0m\u001b[0;34m.\u001b[0m\u001b[0mplot\u001b[0m\u001b[0;34m.\u001b[0m\u001b[0mhist\u001b[0m\u001b[0;34m(\u001b[0m\u001b[0mbins\u001b[0m\u001b[0;34m=\u001b[0m\u001b[0;36m12\u001b[0m\u001b[0;34m,\u001b[0m \u001b[0malpha\u001b[0m\u001b[0;34m=\u001b[0m\u001b[0;36m0.5\u001b[0m\u001b[0;34m)\u001b[0m\u001b[0;34m\u001b[0m\u001b[0;34m\u001b[0m\u001b[0m\n\u001b[1;32m   1312\u001b[0m         \"\"\"\n\u001b[0;32m-> 1313\u001b[0;31m         \u001b[0;32mreturn\u001b[0m \u001b[0mself\u001b[0m\u001b[0;34m(\u001b[0m\u001b[0mkind\u001b[0m\u001b[0;34m=\u001b[0m\u001b[0;34m\"hist\"\u001b[0m\u001b[0;34m,\u001b[0m \u001b[0mby\u001b[0m\u001b[0;34m=\u001b[0m\u001b[0mby\u001b[0m\u001b[0;34m,\u001b[0m \u001b[0mbins\u001b[0m\u001b[0;34m=\u001b[0m\u001b[0mbins\u001b[0m\u001b[0;34m,\u001b[0m \u001b[0;34m**\u001b[0m\u001b[0mkwargs\u001b[0m\u001b[0;34m)\u001b[0m\u001b[0;34m\u001b[0m\u001b[0;34m\u001b[0m\u001b[0m\n\u001b[0m\u001b[1;32m   1314\u001b[0m \u001b[0;34m\u001b[0m\u001b[0m\n\u001b[1;32m   1315\u001b[0m     \u001b[0;32mdef\u001b[0m \u001b[0mkde\u001b[0m\u001b[0;34m(\u001b[0m\u001b[0mself\u001b[0m\u001b[0;34m,\u001b[0m \u001b[0mbw_method\u001b[0m\u001b[0;34m=\u001b[0m\u001b[0;32mNone\u001b[0m\u001b[0;34m,\u001b[0m \u001b[0mind\u001b[0m\u001b[0;34m=\u001b[0m\u001b[0;32mNone\u001b[0m\u001b[0;34m,\u001b[0m \u001b[0;34m**\u001b[0m\u001b[0mkwargs\u001b[0m\u001b[0;34m)\u001b[0m\u001b[0;34m:\u001b[0m\u001b[0;34m\u001b[0m\u001b[0;34m\u001b[0m\u001b[0m\n",
      "\u001b[0;32m/opt/conda/lib/python3.9/site-packages/pandas/plotting/_core.py\u001b[0m in \u001b[0;36m__call__\u001b[0;34m(self, *args, **kwargs)\u001b[0m\n\u001b[1;32m    970\u001b[0m                     \u001b[0mdata\u001b[0m\u001b[0;34m.\u001b[0m\u001b[0mcolumns\u001b[0m \u001b[0;34m=\u001b[0m \u001b[0mlabel_name\u001b[0m\u001b[0;34m\u001b[0m\u001b[0;34m\u001b[0m\u001b[0m\n\u001b[1;32m    971\u001b[0m \u001b[0;34m\u001b[0m\u001b[0m\n\u001b[0;32m--> 972\u001b[0;31m         \u001b[0;32mreturn\u001b[0m \u001b[0mplot_backend\u001b[0m\u001b[0;34m.\u001b[0m\u001b[0mplot\u001b[0m\u001b[0;34m(\u001b[0m\u001b[0mdata\u001b[0m\u001b[0;34m,\u001b[0m \u001b[0mkind\u001b[0m\u001b[0;34m=\u001b[0m\u001b[0mkind\u001b[0m\u001b[0;34m,\u001b[0m \u001b[0;34m**\u001b[0m\u001b[0mkwargs\u001b[0m\u001b[0;34m)\u001b[0m\u001b[0;34m\u001b[0m\u001b[0;34m\u001b[0m\u001b[0m\n\u001b[0m\u001b[1;32m    973\u001b[0m \u001b[0;34m\u001b[0m\u001b[0m\n\u001b[1;32m    974\u001b[0m     \u001b[0m__call__\u001b[0m\u001b[0;34m.\u001b[0m\u001b[0m__doc__\u001b[0m \u001b[0;34m=\u001b[0m \u001b[0m__doc__\u001b[0m\u001b[0;34m\u001b[0m\u001b[0;34m\u001b[0m\u001b[0m\n",
      "\u001b[0;32m/opt/conda/lib/python3.9/site-packages/pandas/plotting/_matplotlib/__init__.py\u001b[0m in \u001b[0;36mplot\u001b[0;34m(data, kind, **kwargs)\u001b[0m\n\u001b[1;32m     69\u001b[0m             \u001b[0mkwargs\u001b[0m\u001b[0;34m[\u001b[0m\u001b[0;34m\"ax\"\u001b[0m\u001b[0;34m]\u001b[0m \u001b[0;34m=\u001b[0m \u001b[0mgetattr\u001b[0m\u001b[0;34m(\u001b[0m\u001b[0max\u001b[0m\u001b[0;34m,\u001b[0m \u001b[0;34m\"left_ax\"\u001b[0m\u001b[0;34m,\u001b[0m \u001b[0max\u001b[0m\u001b[0;34m)\u001b[0m\u001b[0;34m\u001b[0m\u001b[0;34m\u001b[0m\u001b[0m\n\u001b[1;32m     70\u001b[0m     \u001b[0mplot_obj\u001b[0m \u001b[0;34m=\u001b[0m \u001b[0mPLOT_CLASSES\u001b[0m\u001b[0;34m[\u001b[0m\u001b[0mkind\u001b[0m\u001b[0;34m]\u001b[0m\u001b[0;34m(\u001b[0m\u001b[0mdata\u001b[0m\u001b[0;34m,\u001b[0m \u001b[0;34m**\u001b[0m\u001b[0mkwargs\u001b[0m\u001b[0;34m)\u001b[0m\u001b[0;34m\u001b[0m\u001b[0;34m\u001b[0m\u001b[0m\n\u001b[0;32m---> 71\u001b[0;31m     \u001b[0mplot_obj\u001b[0m\u001b[0;34m.\u001b[0m\u001b[0mgenerate\u001b[0m\u001b[0;34m(\u001b[0m\u001b[0;34m)\u001b[0m\u001b[0;34m\u001b[0m\u001b[0;34m\u001b[0m\u001b[0m\n\u001b[0m\u001b[1;32m     72\u001b[0m     \u001b[0mplot_obj\u001b[0m\u001b[0;34m.\u001b[0m\u001b[0mdraw\u001b[0m\u001b[0;34m(\u001b[0m\u001b[0;34m)\u001b[0m\u001b[0;34m\u001b[0m\u001b[0;34m\u001b[0m\u001b[0m\n\u001b[1;32m     73\u001b[0m     \u001b[0;32mreturn\u001b[0m \u001b[0mplot_obj\u001b[0m\u001b[0;34m.\u001b[0m\u001b[0mresult\u001b[0m\u001b[0;34m\u001b[0m\u001b[0;34m\u001b[0m\u001b[0m\n",
      "\u001b[0;32m/opt/conda/lib/python3.9/site-packages/pandas/plotting/_matplotlib/core.py\u001b[0m in \u001b[0;36mgenerate\u001b[0;34m(self)\u001b[0m\n\u001b[1;32m    284\u001b[0m     \u001b[0;32mdef\u001b[0m \u001b[0mgenerate\u001b[0m\u001b[0;34m(\u001b[0m\u001b[0mself\u001b[0m\u001b[0;34m)\u001b[0m\u001b[0;34m:\u001b[0m\u001b[0;34m\u001b[0m\u001b[0;34m\u001b[0m\u001b[0m\n\u001b[1;32m    285\u001b[0m         \u001b[0mself\u001b[0m\u001b[0;34m.\u001b[0m\u001b[0m_args_adjust\u001b[0m\u001b[0;34m(\u001b[0m\u001b[0;34m)\u001b[0m\u001b[0;34m\u001b[0m\u001b[0;34m\u001b[0m\u001b[0m\n\u001b[0;32m--> 286\u001b[0;31m         \u001b[0mself\u001b[0m\u001b[0;34m.\u001b[0m\u001b[0m_compute_plot_data\u001b[0m\u001b[0;34m(\u001b[0m\u001b[0;34m)\u001b[0m\u001b[0;34m\u001b[0m\u001b[0;34m\u001b[0m\u001b[0m\n\u001b[0m\u001b[1;32m    287\u001b[0m         \u001b[0mself\u001b[0m\u001b[0;34m.\u001b[0m\u001b[0m_setup_subplots\u001b[0m\u001b[0;34m(\u001b[0m\u001b[0;34m)\u001b[0m\u001b[0;34m\u001b[0m\u001b[0;34m\u001b[0m\u001b[0m\n\u001b[1;32m    288\u001b[0m         \u001b[0mself\u001b[0m\u001b[0;34m.\u001b[0m\u001b[0m_make_plot\u001b[0m\u001b[0;34m(\u001b[0m\u001b[0;34m)\u001b[0m\u001b[0;34m\u001b[0m\u001b[0;34m\u001b[0m\u001b[0m\n",
      "\u001b[0;32m/opt/conda/lib/python3.9/site-packages/pandas/plotting/_matplotlib/core.py\u001b[0m in \u001b[0;36m_compute_plot_data\u001b[0;34m(self)\u001b[0m\n\u001b[1;32m    451\u001b[0m         \u001b[0;31m# no non-numeric frames or series allowed\u001b[0m\u001b[0;34m\u001b[0m\u001b[0;34m\u001b[0m\u001b[0;34m\u001b[0m\u001b[0m\n\u001b[1;32m    452\u001b[0m         \u001b[0;32mif\u001b[0m \u001b[0mis_empty\u001b[0m\u001b[0;34m:\u001b[0m\u001b[0;34m\u001b[0m\u001b[0;34m\u001b[0m\u001b[0m\n\u001b[0;32m--> 453\u001b[0;31m             \u001b[0;32mraise\u001b[0m \u001b[0mTypeError\u001b[0m\u001b[0;34m(\u001b[0m\u001b[0;34m\"no numeric data to plot\"\u001b[0m\u001b[0;34m)\u001b[0m\u001b[0;34m\u001b[0m\u001b[0;34m\u001b[0m\u001b[0m\n\u001b[0m\u001b[1;32m    454\u001b[0m \u001b[0;34m\u001b[0m\u001b[0m\n\u001b[1;32m    455\u001b[0m         \u001b[0mself\u001b[0m\u001b[0;34m.\u001b[0m\u001b[0mdata\u001b[0m \u001b[0;34m=\u001b[0m \u001b[0mnumeric_data\u001b[0m\u001b[0;34m.\u001b[0m\u001b[0mapply\u001b[0m\u001b[0;34m(\u001b[0m\u001b[0mself\u001b[0m\u001b[0;34m.\u001b[0m\u001b[0m_convert_to_ndarray\u001b[0m\u001b[0;34m)\u001b[0m\u001b[0;34m\u001b[0m\u001b[0;34m\u001b[0m\u001b[0m\n",
      "\u001b[0;31mTypeError\u001b[0m: no numeric data to plot"
     ]
    }
   ],
   "source": []
  },
  {
   "cell_type": "code",
   "execution_count": null,
   "id": "e97f486f-0af0-4bb8-82b7-f185657b159b",
   "metadata": {},
   "outputs": [],
   "source": []
  }
 ],
 "metadata": {
  "kernelspec": {
   "display_name": "Python 3 (ipykernel)",
   "language": "python",
   "name": "python3"
  },
  "language_info": {
   "codemirror_mode": {
    "name": "ipython",
    "version": 3
   },
   "file_extension": ".py",
   "mimetype": "text/x-python",
   "name": "python",
   "nbconvert_exporter": "python",
   "pygments_lexer": "ipython3",
   "version": "3.9.6"
  }
 },
 "nbformat": 4,
 "nbformat_minor": 5
}
