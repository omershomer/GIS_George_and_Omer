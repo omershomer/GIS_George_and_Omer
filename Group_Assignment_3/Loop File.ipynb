{
 "cells": [
  {
   "cell_type": "markdown",
   "id": "96146c5b-26bd-447e-8be6-4f77e42bca07",
   "metadata": {},
   "source": [
    "### Group Assignment 3; \n",
    "\n",
    "George and I want to make function that can parse through our large Bike Collisions file. The data is organized by year and crashes are characterized by severity scale and several other factors."
   ]
  },
  {
   "cell_type": "markdown",
   "id": "0c464c0b-38b7-4156-b515-d8f49dcbb8d6",
   "metadata": {},
   "source": [
    "Importing our libraries:"
   ]
  },
  {
   "cell_type": "code",
   "execution_count": 27,
   "id": "df2f0104-ddcf-46c9-b1ce-f3069b7cd4ac",
   "metadata": {},
   "outputs": [],
   "source": [
    "import pandas as pd\n",
    "import geopandas as gpd\n"
   ]
  },
  {
   "cell_type": "code",
   "execution_count": 28,
   "id": "1488af30-117c-4e7e-a781-9996a982eea9",
   "metadata": {
    "slideshow": {
     "slide_type": "slide"
    }
   },
   "outputs": [],
   "source": [
    "# libraries\n",
    "import urllib.request, json \n",
    "import pandas as pd\n",
    "import geopandas as gpd\n",
    "import contextily as ctx\n",
    "import matplotlib.pyplot as plt\n",
    "import folium"
   ]
  },
  {
   "cell_type": "code",
   "execution_count": 29,
   "id": "22ea9356-9175-4e5b-8dde-94b7d64db1bb",
   "metadata": {},
   "outputs": [],
   "source": [
    "bikes = pd.read_csv('data/Bike_Collisions_2009-2013.csv')"
   ]
  },
  {
   "cell_type": "code",
   "execution_count": 30,
   "id": "1f9f75aa-16c1-4627-b713-40edf5ff5d03",
   "metadata": {},
   "outputs": [
    {
     "name": "stdout",
     "output_type": "stream",
     "text": [
      "<class 'pandas.core.frame.DataFrame'>\n",
      "RangeIndex: 10526 entries, 0 to 10525\n",
      "Data columns (total 89 columns):\n",
      " #   Column                   Non-Null Count  Dtype  \n",
      "---  ------                   --------------  -----  \n",
      " 0   X                        10426 non-null  float64\n",
      " 1   Y                        10426 non-null  float64\n",
      " 2   FID                      10526 non-null  int64  \n",
      " 3   CASE_ID                  10526 non-null  int64  \n",
      " 4   ACCIDENT_YEAR            10526 non-null  int64  \n",
      " 5   PROCDATE                 10526 non-null  object \n",
      " 6   JURIS                    10526 non-null  int64  \n",
      " 7   COLLISION_DATE           10526 non-null  object \n",
      " 8   COLLISION_TIME           10526 non-null  int64  \n",
      " 9   OFFICER_ID               10518 non-null  object \n",
      " 10  REPORTING_DISTRICT       10267 non-null  object \n",
      " 11  DAY_OF_WEEK              10526 non-null  int64  \n",
      " 12  SHIFT                    10526 non-null  int64  \n",
      " 13  POPULATION               10526 non-null  int64  \n",
      " 14  CNTY_CITY_LOC            10526 non-null  int64  \n",
      " 15  SPECIAL_COND             10526 non-null  int64  \n",
      " 16  BEAT_TYPE                10526 non-null  int64  \n",
      " 17  CHP_BEAT_TYPE            10526 non-null  object \n",
      " 18  CITY_DIVISION_LAPD       8056 non-null   object \n",
      " 19  CHP_BEAT_CLASS           10526 non-null  int64  \n",
      " 20  BEATNUMB                 10054 non-null  object \n",
      " 21  PRIMARY_RD               10526 non-null  object \n",
      " 22  SECONDARY_RD             10526 non-null  object \n",
      " 23  DISTANCE                 10526 non-null  int64  \n",
      " 24  DIRECTION                6577 non-null   object \n",
      " 25  INTERSECTION             10526 non-null  object \n",
      " 26  WEATHER_1                10526 non-null  object \n",
      " 27  WEATHER_2                10526 non-null  object \n",
      " 28  STATE_HWY_IND            10523 non-null  object \n",
      " 29  CALTRANS_COUNTY          213 non-null    object \n",
      " 30  CALTRANS_DISTRICT        8315 non-null   float64\n",
      " 31  STATE_ROUTE              8315 non-null   float64\n",
      " 32  ROUTE_SUFFIX             213 non-null    object \n",
      " 33  POSTMILE_PREFIX          213 non-null    object \n",
      " 34  POSTMILE                 8315 non-null   float64\n",
      " 35  LOCATION_TYPE            213 non-null    object \n",
      " 36  RAMP_INTERSECTION        213 non-null    object \n",
      " 37  SIDE_OF_HWY              213 non-null    object \n",
      " 38  TOW_AWAY                 10469 non-null  object \n",
      " 39  COLLISION_SEVERITY       10526 non-null  int64  \n",
      " 40  NUMBER_KILLED            10526 non-null  int64  \n",
      " 41  NUMBER_INJURED           10526 non-null  int64  \n",
      " 42  PARTY_COUNT              10526 non-null  int64  \n",
      " 43  PRIMARY_COLL_FACTOR      10526 non-null  object \n",
      " 44  PCF_CODE_VIOL            10526 non-null  object \n",
      " 45  PCF_VIOL_CATEGORY        10526 non-null  object \n",
      " 46  PCF_VIOLATION            10308 non-null  float64\n",
      " 47  PCF_VIOL_SUBSECTION      6365 non-null   object \n",
      " 48  HIT_AND_RUN              10526 non-null  object \n",
      " 49  TYPE_OF_COLLISION        10526 non-null  object \n",
      " 50  MVIW                     10526 non-null  object \n",
      " 51  PED_ACTION               10526 non-null  object \n",
      " 52  ROAD_SURFACE             10526 non-null  object \n",
      " 53  ROAD_COND_1              10526 non-null  object \n",
      " 54  ROAD_COND_2              10526 non-null  object \n",
      " 55  LIGHTING                 10526 non-null  object \n",
      " 56  CONTROL_DEVICE           10526 non-null  object \n",
      " 57  CHP_ROAD_TYPE            10526 non-null  int64  \n",
      " 58  PEDESTRIAN_ACCIDENT      53 non-null     object \n",
      " 59  BICYCLE_ACCIDENT         10526 non-null  object \n",
      " 60  MOTORCYCLE_ACCIDENT      40 non-null     object \n",
      " 61  TRUCK_ACCIDENT           83 non-null     object \n",
      " 62  NOT_PRIVATE_PROPERTY     10526 non-null  object \n",
      " 63  ALCOHOL_INVOLVED         425 non-null    object \n",
      " 64  STWD_VEHTYPE_AT_FAULT    10526 non-null  object \n",
      " 65  CHP_VEHTYPE_AT_FAULT     10496 non-null  object \n",
      " 66  COUNT_SEVERE_INJ         10526 non-null  int64  \n",
      " 67  COUNT_VISIBLE_INJ        10526 non-null  int64  \n",
      " 68  COUNT_COMPLAIN_PAIN      10526 non-null  int64  \n",
      " 69  COUNT_PED_KILLED         10526 non-null  int64  \n",
      " 70  COUNT_PED_INJURED        10526 non-null  int64  \n",
      " 71  COUNT_BICYCLIST_KILLED   10526 non-null  int64  \n",
      " 72  COUNT_BICYCLIST_INJURED  10526 non-null  int64  \n",
      " 73  COUNT_MC_KILLED          10526 non-null  int64  \n",
      " 74  COUNT_MC_INJURED         10526 non-null  int64  \n",
      " 75  PRIMARY_RAMP             10526 non-null  object \n",
      " 76  SECONDARY_RAMP           10526 non-null  object \n",
      " 77  LATITUDE                 8310 non-null   float64\n",
      " 78  LONGITUDE                8310 non-null   float64\n",
      " 79  TIMECAT                  10526 non-null  int64  \n",
      " 80  MONTH_                   10526 non-null  int64  \n",
      " 81  CITY                     10526 non-null  object \n",
      " 82  COUNTY                   10526 non-null  object \n",
      " 83  STATE                    10526 non-null  object \n",
      " 84  POINT_X                  10426 non-null  float64\n",
      " 85  POINT_Y                  10426 non-null  float64\n",
      " 86  Match_addr               9966 non-null   object \n",
      " 87  m_primaryrd              9966 non-null   object \n",
      " 88  m_secondrd               9831 non-null   object \n",
      "dtypes: float64(10), int64(29), object(50)\n",
      "memory usage: 7.1+ MB\n"
     ]
    }
   ],
   "source": [
    "bikes.info()"
   ]
  },
  {
   "cell_type": "code",
   "execution_count": 31,
   "id": "88f33659-ebb9-44ef-b147-8a6ba4c1831e",
   "metadata": {},
   "outputs": [],
   "source": []
  },
  {
   "cell_type": "code",
   "execution_count": 33,
   "id": "f752a8d0-0676-437f-9b62-8348ef414fa9",
   "metadata": {},
   "outputs": [
    {
     "data": {
      "text/html": [
       "<div style=\"width:100%;\"><div style=\"position:relative;width:100%;height:0;padding-bottom:60%;\"><span style=\"color:#565656\">Make this Notebook Trusted to load map: File -> Trust Notebook</span><iframe src=\"about:blank\" style=\"position:absolute;width:100%;height:100%;left:0;top:0;border:none !important;\" data-html=%3C%21DOCTYPE%20html%3E%0A%3Chead%3E%20%20%20%20%0A%20%20%20%20%3Cmeta%20http-equiv%3D%22content-type%22%20content%3D%22text/html%3B%20charset%3DUTF-8%22%20/%3E%0A%20%20%20%20%0A%20%20%20%20%20%20%20%20%3Cscript%3E%0A%20%20%20%20%20%20%20%20%20%20%20%20L_NO_TOUCH%20%3D%20false%3B%0A%20%20%20%20%20%20%20%20%20%20%20%20L_DISABLE_3D%20%3D%20false%3B%0A%20%20%20%20%20%20%20%20%3C/script%3E%0A%20%20%20%20%0A%20%20%20%20%3Cstyle%3Ehtml%2C%20body%20%7Bwidth%3A%20100%25%3Bheight%3A%20100%25%3Bmargin%3A%200%3Bpadding%3A%200%3B%7D%3C/style%3E%0A%20%20%20%20%3Cstyle%3E%23map%20%7Bposition%3Aabsolute%3Btop%3A0%3Bbottom%3A0%3Bright%3A0%3Bleft%3A0%3B%7D%3C/style%3E%0A%20%20%20%20%3Cscript%20src%3D%22https%3A//cdn.jsdelivr.net/npm/leaflet%401.6.0/dist/leaflet.js%22%3E%3C/script%3E%0A%20%20%20%20%3Cscript%20src%3D%22https%3A//code.jquery.com/jquery-1.12.4.min.js%22%3E%3C/script%3E%0A%20%20%20%20%3Cscript%20src%3D%22https%3A//maxcdn.bootstrapcdn.com/bootstrap/3.2.0/js/bootstrap.min.js%22%3E%3C/script%3E%0A%20%20%20%20%3Cscript%20src%3D%22https%3A//cdnjs.cloudflare.com/ajax/libs/Leaflet.awesome-markers/2.0.2/leaflet.awesome-markers.js%22%3E%3C/script%3E%0A%20%20%20%20%3Clink%20rel%3D%22stylesheet%22%20href%3D%22https%3A//cdn.jsdelivr.net/npm/leaflet%401.6.0/dist/leaflet.css%22/%3E%0A%20%20%20%20%3Clink%20rel%3D%22stylesheet%22%20href%3D%22https%3A//maxcdn.bootstrapcdn.com/bootstrap/3.2.0/css/bootstrap.min.css%22/%3E%0A%20%20%20%20%3Clink%20rel%3D%22stylesheet%22%20href%3D%22https%3A//maxcdn.bootstrapcdn.com/bootstrap/3.2.0/css/bootstrap-theme.min.css%22/%3E%0A%20%20%20%20%3Clink%20rel%3D%22stylesheet%22%20href%3D%22https%3A//maxcdn.bootstrapcdn.com/font-awesome/4.6.3/css/font-awesome.min.css%22/%3E%0A%20%20%20%20%3Clink%20rel%3D%22stylesheet%22%20href%3D%22https%3A//cdnjs.cloudflare.com/ajax/libs/Leaflet.awesome-markers/2.0.2/leaflet.awesome-markers.css%22/%3E%0A%20%20%20%20%3Clink%20rel%3D%22stylesheet%22%20href%3D%22https%3A//cdn.jsdelivr.net/gh/python-visualization/folium/folium/templates/leaflet.awesome.rotate.min.css%22/%3E%0A%20%20%20%20%0A%20%20%20%20%20%20%20%20%20%20%20%20%3Cmeta%20name%3D%22viewport%22%20content%3D%22width%3Ddevice-width%2C%0A%20%20%20%20%20%20%20%20%20%20%20%20%20%20%20%20initial-scale%3D1.0%2C%20maximum-scale%3D1.0%2C%20user-scalable%3Dno%22%20/%3E%0A%20%20%20%20%20%20%20%20%20%20%20%20%3Cstyle%3E%0A%20%20%20%20%20%20%20%20%20%20%20%20%20%20%20%20%23map_10c47a2e3ee04f328619f044422fa147%20%7B%0A%20%20%20%20%20%20%20%20%20%20%20%20%20%20%20%20%20%20%20%20position%3A%20relative%3B%0A%20%20%20%20%20%20%20%20%20%20%20%20%20%20%20%20%20%20%20%20width%3A%20100.0%25%3B%0A%20%20%20%20%20%20%20%20%20%20%20%20%20%20%20%20%20%20%20%20height%3A%20100.0%25%3B%0A%20%20%20%20%20%20%20%20%20%20%20%20%20%20%20%20%20%20%20%20left%3A%200.0%25%3B%0A%20%20%20%20%20%20%20%20%20%20%20%20%20%20%20%20%20%20%20%20top%3A%200.0%25%3B%0A%20%20%20%20%20%20%20%20%20%20%20%20%20%20%20%20%7D%0A%20%20%20%20%20%20%20%20%20%20%20%20%3C/style%3E%0A%20%20%20%20%20%20%20%20%0A%3C/head%3E%0A%3Cbody%3E%20%20%20%20%0A%20%20%20%20%0A%20%20%20%20%20%20%20%20%20%20%20%20%3Cdiv%20class%3D%22folium-map%22%20id%3D%22map_10c47a2e3ee04f328619f044422fa147%22%20%3E%3C/div%3E%0A%20%20%20%20%20%20%20%20%0A%3C/body%3E%0A%3Cscript%3E%20%20%20%20%0A%20%20%20%20%0A%20%20%20%20%20%20%20%20%20%20%20%20var%20map_10c47a2e3ee04f328619f044422fa147%20%3D%20L.map%28%0A%20%20%20%20%20%20%20%20%20%20%20%20%20%20%20%20%22map_10c47a2e3ee04f328619f044422fa147%22%2C%0A%20%20%20%20%20%20%20%20%20%20%20%20%20%20%20%20%7B%0A%20%20%20%20%20%20%20%20%20%20%20%20%20%20%20%20%20%20%20%20center%3A%20%5B0%2C%200%5D%2C%0A%20%20%20%20%20%20%20%20%20%20%20%20%20%20%20%20%20%20%20%20crs%3A%20L.CRS.EPSG3857%2C%0A%20%20%20%20%20%20%20%20%20%20%20%20%20%20%20%20%20%20%20%20zoom%3A%201%2C%0A%20%20%20%20%20%20%20%20%20%20%20%20%20%20%20%20%20%20%20%20zoomControl%3A%20true%2C%0A%20%20%20%20%20%20%20%20%20%20%20%20%20%20%20%20%20%20%20%20preferCanvas%3A%20false%2C%0A%20%20%20%20%20%20%20%20%20%20%20%20%20%20%20%20%7D%0A%20%20%20%20%20%20%20%20%20%20%20%20%29%3B%0A%0A%20%20%20%20%20%20%20%20%20%20%20%20%0A%0A%20%20%20%20%20%20%20%20%0A%20%20%20%20%0A%20%20%20%20%20%20%20%20%20%20%20%20var%20tile_layer_f21dbd4a92214898b3c3e74e173a7ae6%20%3D%20L.tileLayer%28%0A%20%20%20%20%20%20%20%20%20%20%20%20%20%20%20%20%22https%3A//%7Bs%7D.tile.openstreetmap.org/%7Bz%7D/%7Bx%7D/%7By%7D.png%22%2C%0A%20%20%20%20%20%20%20%20%20%20%20%20%20%20%20%20%7B%22attribution%22%3A%20%22Data%20by%20%5Cu0026copy%3B%20%5Cu003ca%20href%3D%5C%22http%3A//openstreetmap.org%5C%22%5Cu003eOpenStreetMap%5Cu003c/a%5Cu003e%2C%20under%20%5Cu003ca%20href%3D%5C%22http%3A//www.openstreetmap.org/copyright%5C%22%5Cu003eODbL%5Cu003c/a%5Cu003e.%22%2C%20%22detectRetina%22%3A%20false%2C%20%22maxNativeZoom%22%3A%2018%2C%20%22maxZoom%22%3A%2018%2C%20%22minZoom%22%3A%200%2C%20%22noWrap%22%3A%20false%2C%20%22opacity%22%3A%201%2C%20%22subdomains%22%3A%20%22abc%22%2C%20%22tms%22%3A%20false%7D%0A%20%20%20%20%20%20%20%20%20%20%20%20%29.addTo%28map_10c47a2e3ee04f328619f044422fa147%29%3B%0A%20%20%20%20%20%20%20%20%0A%3C/script%3E onload=\"this.contentDocument.open();this.contentDocument.write(    decodeURIComponent(this.getAttribute('data-html')));this.contentDocument.close();\" allowfullscreen webkitallowfullscreen mozallowfullscreen></iframe></div></div>"
      ],
      "text/plain": [
       "<folium.folium.Map at 0x7fd6e607d550>"
      ]
     },
     "execution_count": 33,
     "metadata": {},
     "output_type": "execute_result"
    }
   ],
   "source": [
    "def mapping(sev,year):\n",
    "    m = folium.Map()\n",
    "    for index, row in bikes.iterrows():\n",
    "        if index==250:\n",
    "            break\n",
    "        if  row.COLLISION_SEVERITY==sev and row.ACCIDENT_YEAR==year:\n",
    "            folium.Marker(\n",
    "                [row.Y, row.X],\n",
    "                popup=row.COLLISION_DATE,\n",
    "                tooltip=row.COLLISION_DATE\n",
    "            ).add_to(m)\n",
    "\n",
    "#TO CALL FUNCTION\n",
    "\n",
    "mapping(2, 2011)\n",
    "m"
   ]
  },
  {
   "cell_type": "code",
   "execution_count": null,
   "id": "f5a733c7-c051-4cf9-9b32-132045e4536d",
   "metadata": {},
   "outputs": [],
   "source": []
  },
  {
   "cell_type": "code",
   "execution_count": null,
   "id": "8305a1b5-995b-47ee-9346-9079e9dada8c",
   "metadata": {},
   "outputs": [],
   "source": []
  },
  {
   "cell_type": "code",
   "execution_count": null,
   "id": "6041a816-34be-49fb-b06b-4c996eaca5d9",
   "metadata": {},
   "outputs": [],
   "source": []
  }
 ],
 "metadata": {
  "kernelspec": {
   "display_name": "Python 3 (ipykernel)",
   "language": "python",
   "name": "python3"
  },
  "language_info": {
   "codemirror_mode": {
    "name": "ipython",
    "version": 3
   },
   "file_extension": ".py",
   "mimetype": "text/x-python",
   "name": "python",
   "nbconvert_exporter": "python",
   "pygments_lexer": "ipython3",
   "version": "3.9.6"
  }
 },
 "nbformat": 4,
 "nbformat_minor": 5
}
