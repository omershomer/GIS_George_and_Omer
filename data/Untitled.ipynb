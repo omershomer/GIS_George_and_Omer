{
 "cells": [
  {
   "cell_type": "code",
   "execution_count": 1,
   "id": "23fb4a11-1aae-48ea-94c9-acc007c8d66e",
   "metadata": {},
   "outputs": [
    {
     "name": "stderr",
     "output_type": "stream",
     "text": [
      "/opt/conda/lib/python3.9/site-packages/geopandas/_compat.py:106: UserWarning: The Shapely GEOS version (3.9.1-CAPI-1.14.2) is incompatible with the GEOS version PyGEOS was compiled with (3.10.1-CAPI-1.16.0). Conversions between both will be slow.\n",
      "  warnings.warn(\n"
     ]
    }
   ],
   "source": [
    "#Importing the libraries that we will be using. \n",
    "import geopandas as gpd\n",
    "import matplotlib.pyplot as plt\n",
    "import pandas as pd\n",
    "import osmnx as ox\n",
    "import contextily as ctx \n",
    "import plotly.express as px"
   ]
  },
  {
   "cell_type": "code",
   "execution_count": 2,
   "id": "02df5b16-d30b-4ee1-978e-0590c73396f8",
   "metadata": {},
   "outputs": [],
   "source": [
    "crashes=gpd.read_file('Crashed_2009_2018.csv')"
   ]
  },
  {
   "cell_type": "code",
   "execution_count": 4,
   "id": "eaeb94e9-58ca-4046-b6f3-33ea9a584b25",
   "metadata": {},
   "outputs": [
    {
     "name": "stdout",
     "output_type": "stream",
     "text": [
      "<class 'geopandas.geodataframe.GeoDataFrame'>\n",
      "RangeIndex: 4127 entries, 0 to 4126\n",
      "Data columns (total 81 columns):\n",
      " #   Column                   Non-Null Count  Dtype   \n",
      "---  ------                   --------------  -----   \n",
      " 0   CASE_ID                  4127 non-null   object  \n",
      " 1   ACCIDENT_YEAR            4127 non-null   object  \n",
      " 2   PROC_DATE                4127 non-null   object  \n",
      " 3   JURIS                    4127 non-null   object  \n",
      " 4   COLLISION_DATE           4127 non-null   object  \n",
      " 5   COLLISION_TIME           4127 non-null   object  \n",
      " 6   OFFICER_ID               4126 non-null   object  \n",
      " 7   REPORTING_DISTRICT       4126 non-null   object  \n",
      " 8   DAY_OF_WEEK              4126 non-null   object  \n",
      " 9   CHP_SHIFT                4126 non-null   object  \n",
      " 10  POPULATION               4126 non-null   object  \n",
      " 11  CNTY_CITY_LOC            4126 non-null   object  \n",
      " 12  SPECIAL_COND             4126 non-null   object  \n",
      " 13  BEAT_TYPE                4126 non-null   object  \n",
      " 14  CHP_BEAT_TYPE            4126 non-null   object  \n",
      " 15  CITY_DIVISION_LAPD       4126 non-null   object  \n",
      " 16  CHP_BEAT_CLASS           4126 non-null   object  \n",
      " 17  BEAT_NUMBER              4126 non-null   object  \n",
      " 18  PRIMARY_RD               4126 non-null   object  \n",
      " 19  SECONDARY_RD             4126 non-null   object  \n",
      " 20  DISTANCE                 4126 non-null   object  \n",
      " 21  DIRECTION                4126 non-null   object  \n",
      " 22  INTERSECTION             4126 non-null   object  \n",
      " 23  WEATHER_1                4126 non-null   object  \n",
      " 24  WEATHER_2                4126 non-null   object  \n",
      " 25  STATE_HWY_IND            4126 non-null   object  \n",
      " 26  CALTRANS_COUNTY          4126 non-null   object  \n",
      " 27  CALTRANS_DISTRICT        4126 non-null   object  \n",
      " 28  STATE_ROUTE              4126 non-null   object  \n",
      " 29  ROUTE_SUFFIX             4126 non-null   object  \n",
      " 30  POSTMILE_PREFIX          4126 non-null   object  \n",
      " 31  POSTMILE                 4126 non-null   object  \n",
      " 32  LOCATION_TYPE            4126 non-null   object  \n",
      " 33  RAMP_INTERSECTION        4126 non-null   object  \n",
      " 34  SIDE_OF_HWY              4126 non-null   object  \n",
      " 35  TOW_AWAY                 4126 non-null   object  \n",
      " 36  COLLISION_SEVERITY       4126 non-null   object  \n",
      " 37  NUMBER_KILLED            4126 non-null   object  \n",
      " 38  NUMBER_INJURED           4126 non-null   object  \n",
      " 39  PARTY_COUNT              4126 non-null   object  \n",
      " 40  PRIMARY_COLL_FACTOR      4126 non-null   object  \n",
      " 41  PCF_CODE_OF_VIOL         4126 non-null   object  \n",
      " 42  PCF_VIOL_CATEGORY        4126 non-null   object  \n",
      " 43  PCF_VIOLATION            4126 non-null   object  \n",
      " 44  PCF_VIOL_SUBSECTION      4126 non-null   object  \n",
      " 45  HIT_AND_RUN              4126 non-null   object  \n",
      " 46  TYPE_OF_COLLISION        4126 non-null   object  \n",
      " 47  MVIW                     4126 non-null   object  \n",
      " 48  PED_ACTION               4126 non-null   object  \n",
      " 49  ROAD_SURFACE             4126 non-null   object  \n",
      " 50  ROAD_COND_1              4126 non-null   object  \n",
      " 51  ROAD_COND_2              4126 non-null   object  \n",
      " 52  LIGHTING                 4126 non-null   object  \n",
      " 53  CONTROL_DEVICE           4126 non-null   object  \n",
      " 54  CHP_ROAD_TYPE            4126 non-null   object  \n",
      " 55  PEDESTRIAN_ACCIDENT      4126 non-null   object  \n",
      " 56  BICYCLE_ACCIDENT         4126 non-null   object  \n",
      " 57  MOTORCYCLE_ACCIDENT      4126 non-null   object  \n",
      " 58  TRUCK_ACCIDENT           4126 non-null   object  \n",
      " 59  NOT_PRIVATE_PROPERTY     4126 non-null   object  \n",
      " 60  ALCOHOL_INVOLVED         4126 non-null   object  \n",
      " 61  STWD_VEHTYPE_AT_FAULT    4126 non-null   object  \n",
      " 62  CHP_VEHTYPE_AT_FAULT     4126 non-null   object  \n",
      " 63  COUNT_SEVERE_INJ         4126 non-null   object  \n",
      " 64  COUNT_VISIBLE_INJ        4126 non-null   object  \n",
      " 65  COUNT_COMPLAINT_PAIN     4126 non-null   object  \n",
      " 66  COUNT_PED_KILLED         4126 non-null   object  \n",
      " 67  COUNT_PED_INJURED        4126 non-null   object  \n",
      " 68  COUNT_BICYCLIST_KILLED   4126 non-null   object  \n",
      " 69  COUNT_BICYCLIST_INJURED  4126 non-null   object  \n",
      " 70  COUNT_MC_KILLED          4126 non-null   object  \n",
      " 71  COUNT_MC_INJURED         4126 non-null   object  \n",
      " 72  PRIMARY_RAMP             4126 non-null   object  \n",
      " 73  SECONDARY_RAMP           4126 non-null   object  \n",
      " 74  LATITUDE                 4126 non-null   object  \n",
      " 75  LONGITUDE                4126 non-null   object  \n",
      " 76  COUNTY                   4126 non-null   object  \n",
      " 77  CITY                     4126 non-null   object  \n",
      " 78  POINT_X                  4126 non-null   object  \n",
      " 79  POINT_Y                  4126 non-null   object  \n",
      " 80  geometry                 0 non-null      geometry\n",
      "dtypes: geometry(1), object(80)\n",
      "memory usage: 2.6+ MB\n"
     ]
    }
   ],
   "source": [
    "crashes.info()"
   ]
  },
  {
   "cell_type": "code",
   "execution_count": null,
   "id": "fd080807-1b6e-4a88-a7df-fb67858fd468",
   "metadata": {},
   "outputs": [],
   "source": []
  }
 ],
 "metadata": {
  "kernelspec": {
   "display_name": "Python 3 (ipykernel)",
   "language": "python",
   "name": "python3"
  },
  "language_info": {
   "codemirror_mode": {
    "name": "ipython",
    "version": 3
   },
   "file_extension": ".py",
   "mimetype": "text/x-python",
   "name": "python",
   "nbconvert_exporter": "python",
   "pygments_lexer": "ipython3",
   "version": "3.9.6"
  }
 },
 "nbformat": 4,
 "nbformat_minor": 5
}
